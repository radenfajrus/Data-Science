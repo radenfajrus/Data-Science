{
  "nbformat": 4,
  "nbformat_minor": 0,
  "metadata": {
    "colab": {
      "name": "ADB - Minggu5 - Analisis Data Kelahiran Bayi.ipynb",
      "provenance": [],
      "collapsed_sections": []
    },
    "kernelspec": {
      "name": "python3",
      "display_name": "Python 3"
    }
  },
  "cells": [
    {
      "cell_type": "markdown",
      "metadata": {
        "id": "IQTs-ZSGUxEf"
      },
      "source": [
        "# ADB - Minggu5 - Analisis Data Kelahiran Bayi"
      ]
    },
    {
      "cell_type": "markdown",
      "metadata": {
        "id": "E_k6xcg0Epwf"
      },
      "source": [
        "# Preprocessing Data\n",
        "Preprocessing data sebelum dimasukkan ke training model dapat dilakukan melalui tahap berikut.\n",
        "1. Descriptive Analytic<br>\n",
        "Tahap memahami data yang didalamnya akan terjadi penemuan missing data, duplicate data dan anomaly data.\n",
        "2. Identifying North Star<br>\n",
        "Menentukan tujuan utama analisis dan parameter keberhasilan dari model.\n",
        "3. Exploratory Analytic<br>\n",
        "Penentuan fitur2 tambahan sebelum dimasukkan ke model.\n",
        "4. Predictive Analytic<br>\n",
        "Penentuan model beserta hyperparameternya.\n"
      ]
    },
    {
      "cell_type": "code",
      "metadata": {
        "id": "ZuK60_25IvAN"
      },
      "source": [
        "import os\n",
        "import pandas as pd\n",
        "from sklearn import preprocessing\n",
        "import numpy as np\n",
        "import seaborn as sns\n",
        "import matplotlib.pyplot as plt"
      ],
      "execution_count": null,
      "outputs": []
    },
    {
      "cell_type": "markdown",
      "metadata": {
        "id": "PdDGa6yf10U_"
      },
      "source": [
        "## **1. DESCRIPTIVE ANALYTIC**\n",
        "\n",
        "Tahap pemahaman dan pembersihan data\n",
        "\n",
        "1. Load Data\n",
        "2. Pendefinisian Datatype\n",
        "3. Data Numerik      : Describe & Histogram\n",
        "4. Data Kategorikal : Unique Value & Barplot\n",
        "5. Data Cleaning"
      ]
    },
    {
      "cell_type": "markdown",
      "metadata": {
        "id": "9BOI1n0PUkK-"
      },
      "source": [
        "#### 1.1. Load Data"
      ]
    },
    {
      "cell_type": "code",
      "metadata": {
        "id": "gOgzFnmSfLF0",
        "colab": {
          "resources": {
            "http://localhost:8080/nbextensions/google.colab/files.js": {
              "data": "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",
              "ok": true,
              "headers": [
                [
                  "content-type",
                  "application/javascript"
                ]
              ],
              "status": 200,
              "status_text": ""
            }
          },
          "base_uri": "https://localhost:8080/",
          "height": 92
        },
        "outputId": "42ed9815-2ba6-47f0-8b39-a7bd6cee74cc"
      },
      "source": [
        "import pandas as pd\n",
        "from google.colab import files\n",
        "uploaded = files.upload()"
      ],
      "execution_count": null,
      "outputs": [
        {
          "output_type": "display_data",
          "data": {
            "text/html": [
              "\n",
              "     <input type=\"file\" id=\"files-17b0e093-ff3d-4407-a7d7-21fd3807e1b6\" name=\"files[]\" multiple disabled />\n",
              "     <output id=\"result-17b0e093-ff3d-4407-a7d7-21fd3807e1b6\">\n",
              "      Upload widget is only available when the cell has been executed in the\n",
              "      current browser session. Please rerun this cell to enable.\n",
              "      </output>\n",
              "      <script src=\"/nbextensions/google.colab/files.js\"></script> "
            ],
            "text/plain": [
              "<IPython.core.display.HTML object>"
            ]
          },
          "metadata": {
            "tags": []
          }
        },
        {
          "output_type": "stream",
          "text": [
            "Saving data.csv to data.csv\n"
          ],
          "name": "stdout"
        }
      ]
    },
    {
      "cell_type": "code",
      "metadata": {
        "id": "ZSc12g5v_Hfz"
      },
      "source": [
        "df_raw = pd.read_csv('data.csv')"
      ],
      "execution_count": null,
      "outputs": []
    },
    {
      "cell_type": "code",
      "metadata": {
        "id": "nhekRkcs1QY1",
        "colab": {
          "resources": {
            "http://localhost:8080/nbextensions/google.colab/files.js": {
              "data": "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",
              "ok": true,
              "headers": [
                [
                  "content-type",
                  "application/javascript"
                ]
              ],
              "status": 200,
              "status_text": ""
            }
          },
          "base_uri": "https://localhost:8080/",
          "height": 112
        },
        "outputId": "9e8a7c0f-bdd8-4cb4-f608-a208f906981a"
      },
      "source": [
        "uploaded = files.upload()"
      ],
      "execution_count": null,
      "outputs": [
        {
          "output_type": "display_data",
          "data": {
            "text/html": [
              "\n",
              "     <input type=\"file\" id=\"files-71db0927-e757-4b9a-9796-e1b82e12566b\" name=\"files[]\" multiple disabled />\n",
              "     <output id=\"result-71db0927-e757-4b9a-9796-e1b82e12566b\">\n",
              "      Upload widget is only available when the cell has been executed in the\n",
              "      current browser session. Please rerun this cell to enable.\n",
              "      </output>\n",
              "      <script src=\"/nbextensions/google.colab/files.js\"></script> "
            ],
            "text/plain": [
              "<IPython.core.display.HTML object>"
            ]
          },
          "metadata": {
            "tags": []
          }
        },
        {
          "output_type": "stream",
          "text": [
            "Saving penjelasan_data.txt to penjelasan_data.txt\n"
          ],
          "name": "stdout"
        }
      ]
    },
    {
      "cell_type": "code",
      "metadata": {
        "id": "ahkxE0BG_GHB"
      },
      "source": [
        "with open('penjelasan_data.txt','r') as f:\n",
        "    info = f.readlines();"
      ],
      "execution_count": null,
      "outputs": []
    },
    {
      "cell_type": "code",
      "metadata": {
        "id": "i_P7o81R-pYD",
        "colab": {
          "base_uri": "https://localhost:8080/",
          "height": 347
        },
        "outputId": "4a8a6aaf-3f6a-4938-fed4-7d0f23b4c5cf"
      },
      "source": [
        "info"
      ],
      "execution_count": null,
      "outputs": [
        {
          "output_type": "execute_result",
          "data": {
            "text/plain": [
              "['Data ini akan digunakan untuk melakukan penelitian terkait hubungan kelahiran seorang bayi \\n',\n",
              " 'dan kondisi dari ibu yang mengandung (i.e., kebiasaan, perilaku, dan demografi). \\n',\n",
              " '\\n',\n",
              " 'Dataset variables:\\n',\n",
              " \"fage           � father's age in years.\\n\",\n",
              " \"mage           � mother's age in years.\\n\",\n",
              " 'mature         � maturity status of mother.\\n',\n",
              " 'weeks          � length of pregnancy in weeks.\\n',\n",
              " 'premie         � whether the birth was classied as premature (premie) or full-term.\\n',\n",
              " 'visits         � number of hospital visits during pregnancy.\\n',\n",
              " 'gained         � weight gained by mother during pregnancy in pounds.\\n',\n",
              " 'weight         � weight of the baby at birth in pounds.\\n',\n",
              " 'lowbirthweight � whether baby was classied as low birthweight (low) or not (not low).\\n',\n",
              " 'gender         � gender of the baby, female or male.\\n',\n",
              " 'habit          � status of the mother as a nonsmoker or a smoker.\\n',\n",
              " 'marital        � whether mother is married or not married at birth.\\n',\n",
              " 'whitemom       � whether mom is white or not white.\\n',\n",
              " '\\n']"
            ]
          },
          "metadata": {
            "tags": []
          },
          "execution_count": 8
        }
      ]
    },
    {
      "cell_type": "code",
      "metadata": {
        "id": "Mtt2wCal-a9v",
        "colab": {
          "base_uri": "https://localhost:8080/",
          "height": 307
        },
        "outputId": "db089631-fc04-4a74-d3ff-f25122789596"
      },
      "source": [
        "df_raw.head()"
      ],
      "execution_count": null,
      "outputs": [
        {
          "output_type": "execute_result",
          "data": {
            "text/html": [
              "<div>\n",
              "<style scoped>\n",
              "    .dataframe tbody tr th:only-of-type {\n",
              "        vertical-align: middle;\n",
              "    }\n",
              "\n",
              "    .dataframe tbody tr th {\n",
              "        vertical-align: top;\n",
              "    }\n",
              "\n",
              "    .dataframe thead th {\n",
              "        text-align: right;\n",
              "    }\n",
              "</style>\n",
              "<table border=\"1\" class=\"dataframe\">\n",
              "  <thead>\n",
              "    <tr style=\"text-align: right;\">\n",
              "      <th></th>\n",
              "      <th>fage</th>\n",
              "      <th>mage</th>\n",
              "      <th>mature</th>\n",
              "      <th>weeks</th>\n",
              "      <th>premie</th>\n",
              "      <th>visits</th>\n",
              "      <th>marital</th>\n",
              "      <th>gained</th>\n",
              "      <th>weight</th>\n",
              "      <th>lowbirthweight</th>\n",
              "      <th>gender</th>\n",
              "      <th>habit</th>\n",
              "      <th>whitemom</th>\n",
              "    </tr>\n",
              "  </thead>\n",
              "  <tbody>\n",
              "    <tr>\n",
              "      <th>0</th>\n",
              "      <td>NaN</td>\n",
              "      <td>13</td>\n",
              "      <td>younger mom</td>\n",
              "      <td>39.0</td>\n",
              "      <td>full term</td>\n",
              "      <td>10.0</td>\n",
              "      <td>married</td>\n",
              "      <td>38.0</td>\n",
              "      <td>7.63</td>\n",
              "      <td>not low</td>\n",
              "      <td>male</td>\n",
              "      <td>nonsmoker</td>\n",
              "      <td>not white</td>\n",
              "    </tr>\n",
              "    <tr>\n",
              "      <th>1</th>\n",
              "      <td>NaN</td>\n",
              "      <td>14</td>\n",
              "      <td>younger mom</td>\n",
              "      <td>42.0</td>\n",
              "      <td>full term</td>\n",
              "      <td>15.0</td>\n",
              "      <td>married</td>\n",
              "      <td>20.0</td>\n",
              "      <td>7.88</td>\n",
              "      <td>not low</td>\n",
              "      <td>male</td>\n",
              "      <td>nonsmoker</td>\n",
              "      <td>not white</td>\n",
              "    </tr>\n",
              "    <tr>\n",
              "      <th>2</th>\n",
              "      <td>19.0</td>\n",
              "      <td>15</td>\n",
              "      <td>younger mom</td>\n",
              "      <td>37.0</td>\n",
              "      <td>full term</td>\n",
              "      <td>11.0</td>\n",
              "      <td>married</td>\n",
              "      <td>38.0</td>\n",
              "      <td>6.63</td>\n",
              "      <td>not low</td>\n",
              "      <td>female</td>\n",
              "      <td>nonsmoker</td>\n",
              "      <td>white</td>\n",
              "    </tr>\n",
              "    <tr>\n",
              "      <th>3</th>\n",
              "      <td>21.0</td>\n",
              "      <td>15</td>\n",
              "      <td>younger mom</td>\n",
              "      <td>41.0</td>\n",
              "      <td>full term</td>\n",
              "      <td>6.0</td>\n",
              "      <td>married</td>\n",
              "      <td>34.0</td>\n",
              "      <td>8.00</td>\n",
              "      <td>not low</td>\n",
              "      <td>male</td>\n",
              "      <td>nonsmoker</td>\n",
              "      <td>white</td>\n",
              "    </tr>\n",
              "    <tr>\n",
              "      <th>4</th>\n",
              "      <td>NaN</td>\n",
              "      <td>15</td>\n",
              "      <td>younger mom</td>\n",
              "      <td>39.0</td>\n",
              "      <td>full term</td>\n",
              "      <td>9.0</td>\n",
              "      <td>married</td>\n",
              "      <td>27.0</td>\n",
              "      <td>6.38</td>\n",
              "      <td>not low</td>\n",
              "      <td>female</td>\n",
              "      <td>nonsmoker</td>\n",
              "      <td>not white</td>\n",
              "    </tr>\n",
              "  </tbody>\n",
              "</table>\n",
              "</div>"
            ],
            "text/plain": [
              "   fage  mage       mature  weeks  ... lowbirthweight  gender      habit   whitemom\n",
              "0   NaN    13  younger mom   39.0  ...        not low    male  nonsmoker  not white\n",
              "1   NaN    14  younger mom   42.0  ...        not low    male  nonsmoker  not white\n",
              "2  19.0    15  younger mom   37.0  ...        not low  female  nonsmoker      white\n",
              "3  21.0    15  younger mom   41.0  ...        not low    male  nonsmoker      white\n",
              "4   NaN    15  younger mom   39.0  ...        not low  female  nonsmoker  not white\n",
              "\n",
              "[5 rows x 13 columns]"
            ]
          },
          "metadata": {
            "tags": []
          },
          "execution_count": 9
        }
      ]
    },
    {
      "cell_type": "markdown",
      "metadata": {
        "id": "L1tGUxw6GUQ2"
      },
      "source": [
        "### 1.2. Pendefinisian Datatype\n",
        "**Kolom dalam dataset harus didefinisikan kedalam 3 type : numerik, kategorical, boolean**<br>\n",
        "Cek adanya kemungkinan kolom numerik yang sebenarnya adalah kategorikal<br>\n",
        "*Contoh : kolom `zip1`*<br><br>\n",
        "\n",
        "---\n",
        "<i><h6>Definisi tipe data wajib dilakukan untuk menjawab pemahaman analist terhadap konstrain data dan menghindari kesalahan asumsi awal (perlakuan numerik dilakukan ke data kategori).\n",
        "---\n",
        "\n"
      ]
    },
    {
      "cell_type": "code",
      "metadata": {
        "id": "GnsDOcaG1y-Q",
        "colab": {
          "base_uri": "https://localhost:8080/",
          "height": 258
        },
        "outputId": "f8355b0e-08b0-473f-96f3-dedd487f7ff3"
      },
      "source": [
        "df_raw.dtypes"
      ],
      "execution_count": null,
      "outputs": [
        {
          "output_type": "execute_result",
          "data": {
            "text/plain": [
              "fage              float64\n",
              "mage                int64\n",
              "mature             object\n",
              "weeks             float64\n",
              "premie             object\n",
              "visits            float64\n",
              "marital            object\n",
              "gained            float64\n",
              "weight            float64\n",
              "lowbirthweight     object\n",
              "gender             object\n",
              "habit              object\n",
              "whitemom           object\n",
              "dtype: object"
            ]
          },
          "metadata": {
            "tags": []
          },
          "execution_count": 10
        }
      ]
    },
    {
      "cell_type": "code",
      "metadata": {
        "id": "U3f74fq2Bcrk",
        "colab": {
          "base_uri": "https://localhost:8080/",
          "height": 221
        },
        "outputId": "aebd335f-dd2b-4667-9372-53d006d3cd38"
      },
      "source": [
        "df_raw.select_dtypes(exclude='object').head(5)"
      ],
      "execution_count": null,
      "outputs": [
        {
          "output_type": "execute_result",
          "data": {
            "text/html": [
              "<div>\n",
              "<style scoped>\n",
              "    .dataframe tbody tr th:only-of-type {\n",
              "        vertical-align: middle;\n",
              "    }\n",
              "\n",
              "    .dataframe tbody tr th {\n",
              "        vertical-align: top;\n",
              "    }\n",
              "\n",
              "    .dataframe thead th {\n",
              "        text-align: right;\n",
              "    }\n",
              "</style>\n",
              "<table border=\"1\" class=\"dataframe\">\n",
              "  <thead>\n",
              "    <tr style=\"text-align: right;\">\n",
              "      <th></th>\n",
              "      <th>fage</th>\n",
              "      <th>mage</th>\n",
              "      <th>weeks</th>\n",
              "      <th>visits</th>\n",
              "      <th>gained</th>\n",
              "      <th>weight</th>\n",
              "    </tr>\n",
              "  </thead>\n",
              "  <tbody>\n",
              "    <tr>\n",
              "      <th>0</th>\n",
              "      <td>NaN</td>\n",
              "      <td>13</td>\n",
              "      <td>39.0</td>\n",
              "      <td>10.0</td>\n",
              "      <td>38.0</td>\n",
              "      <td>7.63</td>\n",
              "    </tr>\n",
              "    <tr>\n",
              "      <th>1</th>\n",
              "      <td>NaN</td>\n",
              "      <td>14</td>\n",
              "      <td>42.0</td>\n",
              "      <td>15.0</td>\n",
              "      <td>20.0</td>\n",
              "      <td>7.88</td>\n",
              "    </tr>\n",
              "    <tr>\n",
              "      <th>2</th>\n",
              "      <td>19.0</td>\n",
              "      <td>15</td>\n",
              "      <td>37.0</td>\n",
              "      <td>11.0</td>\n",
              "      <td>38.0</td>\n",
              "      <td>6.63</td>\n",
              "    </tr>\n",
              "    <tr>\n",
              "      <th>3</th>\n",
              "      <td>21.0</td>\n",
              "      <td>15</td>\n",
              "      <td>41.0</td>\n",
              "      <td>6.0</td>\n",
              "      <td>34.0</td>\n",
              "      <td>8.00</td>\n",
              "    </tr>\n",
              "    <tr>\n",
              "      <th>4</th>\n",
              "      <td>NaN</td>\n",
              "      <td>15</td>\n",
              "      <td>39.0</td>\n",
              "      <td>9.0</td>\n",
              "      <td>27.0</td>\n",
              "      <td>6.38</td>\n",
              "    </tr>\n",
              "  </tbody>\n",
              "</table>\n",
              "</div>"
            ],
            "text/plain": [
              "   fage  mage  weeks  visits  gained  weight\n",
              "0   NaN    13   39.0    10.0    38.0    7.63\n",
              "1   NaN    14   42.0    15.0    20.0    7.88\n",
              "2  19.0    15   37.0    11.0    38.0    6.63\n",
              "3  21.0    15   41.0     6.0    34.0    8.00\n",
              "4   NaN    15   39.0     9.0    27.0    6.38"
            ]
          },
          "metadata": {
            "tags": []
          },
          "execution_count": 11
        }
      ]
    },
    {
      "cell_type": "code",
      "metadata": {
        "id": "yh0OOdu3GXWq",
        "colab": {
          "base_uri": "https://localhost:8080/",
          "height": 231
        },
        "outputId": "7b818449-e9c8-497a-de7d-af8c7c95da2a"
      },
      "source": [
        "## Check Hidden Category\n",
        "check_category = {\"nama\":[],\"min\":[],\"max\":[],\"selisih\":[],\"nunique\":[]}\n",
        "list_check = df_raw.select_dtypes(exclude='object').columns\n",
        "\n",
        "for i in list_check:\n",
        "    check_category[\"nama\"].append(df_raw[i].name)\n",
        "    check_category[\"min\"].append(df_raw[i].min())\n",
        "    check_category[\"max\"].append(df_raw[i].max())\n",
        "    check_category[\"selisih\"].append(df_raw[i].max()-df_raw[i].min())\n",
        "    check_category[\"nunique\"].append(df_raw[i].nunique())\n",
        "\n",
        "pd.DataFrame(check_category)"
      ],
      "execution_count": null,
      "outputs": [
        {
          "output_type": "execute_result",
          "data": {
            "text/html": [
              "<div>\n",
              "<style scoped>\n",
              "    .dataframe tbody tr th:only-of-type {\n",
              "        vertical-align: middle;\n",
              "    }\n",
              "\n",
              "    .dataframe tbody tr th {\n",
              "        vertical-align: top;\n",
              "    }\n",
              "\n",
              "    .dataframe thead th {\n",
              "        text-align: right;\n",
              "    }\n",
              "</style>\n",
              "<table border=\"1\" class=\"dataframe\">\n",
              "  <thead>\n",
              "    <tr style=\"text-align: right;\">\n",
              "      <th></th>\n",
              "      <th>nama</th>\n",
              "      <th>min</th>\n",
              "      <th>max</th>\n",
              "      <th>selisih</th>\n",
              "      <th>nunique</th>\n",
              "    </tr>\n",
              "  </thead>\n",
              "  <tbody>\n",
              "    <tr>\n",
              "      <th>0</th>\n",
              "      <td>fage</td>\n",
              "      <td>14.0</td>\n",
              "      <td>55.00</td>\n",
              "      <td>41.00</td>\n",
              "      <td>37</td>\n",
              "    </tr>\n",
              "    <tr>\n",
              "      <th>1</th>\n",
              "      <td>mage</td>\n",
              "      <td>13.0</td>\n",
              "      <td>50.00</td>\n",
              "      <td>37.00</td>\n",
              "      <td>33</td>\n",
              "    </tr>\n",
              "    <tr>\n",
              "      <th>2</th>\n",
              "      <td>weeks</td>\n",
              "      <td>20.0</td>\n",
              "      <td>45.00</td>\n",
              "      <td>25.00</td>\n",
              "      <td>23</td>\n",
              "    </tr>\n",
              "    <tr>\n",
              "      <th>3</th>\n",
              "      <td>visits</td>\n",
              "      <td>0.0</td>\n",
              "      <td>30.00</td>\n",
              "      <td>30.00</td>\n",
              "      <td>26</td>\n",
              "    </tr>\n",
              "    <tr>\n",
              "      <th>4</th>\n",
              "      <td>gained</td>\n",
              "      <td>0.0</td>\n",
              "      <td>85.00</td>\n",
              "      <td>85.00</td>\n",
              "      <td>71</td>\n",
              "    </tr>\n",
              "    <tr>\n",
              "      <th>5</th>\n",
              "      <td>weight</td>\n",
              "      <td>1.0</td>\n",
              "      <td>11.75</td>\n",
              "      <td>10.75</td>\n",
              "      <td>126</td>\n",
              "    </tr>\n",
              "  </tbody>\n",
              "</table>\n",
              "</div>"
            ],
            "text/plain": [
              "     nama   min    max  selisih  nunique\n",
              "0    fage  14.0  55.00    41.00       37\n",
              "1    mage  13.0  50.00    37.00       33\n",
              "2   weeks  20.0  45.00    25.00       23\n",
              "3  visits   0.0  30.00    30.00       26\n",
              "4  gained   0.0  85.00    85.00       71\n",
              "5  weight   1.0  11.75    10.75      126"
            ]
          },
          "metadata": {
            "tags": []
          },
          "execution_count": 12
        }
      ]
    },
    {
      "cell_type": "markdown",
      "metadata": {
        "id": "SkdOj2eWGsXF"
      },
      "source": [
        "**Asumsi : kolom kategori memiliki ununique = (selisih+1)**\n",
        "<br>`field1` memiliki ununique = (selisih+1), jadi dianggap sebagai kategorikal\n",
        "<br>`field2` memiliki nunique = 2, jadi dianggap sebagai boolean\n",
        "<br>`field5` memiliki selisih > nuniquenya, jadi tidak dianggap sebagai kategorikal\n",
        "<br>\n",
        "<br> kolom `fage`,`mage`, dan `weeks` dapat menjadi kategorikal jika dilakukan binning (kategori per range umur).\n",
        "\n",
        "\n",
        "<br>Maka kolom-kolom yang dianggap kategori adalah.\n",
        "1. `fage`\n",
        "2. `mage`\n",
        "3. `weeks`\n",
        "4. `visits`\n",
        "5. `gained`\n",
        "6. `weight`\n",
        "\n",
        "<br>kolom-kolom yang dianggap numerikal adalah.\n",
        "1. `mature`\n",
        "2. `premie`\n",
        "3. `lowbirthweight`\n",
        "4. `gender`\n",
        "5. `habit`\n",
        "6. `whitemom`\n",
        "\n",
        "<br>sisa kolom dianggap boolean"
      ]
    },
    {
      "cell_type": "code",
      "metadata": {
        "id": "BjX-v_sYGxZI",
        "colab": {
          "base_uri": "https://localhost:8080/",
          "height": 221
        },
        "outputId": "82b3e7c8-989e-4720-e041-271f2c2e86ec"
      },
      "source": [
        "kolom_numerik = df_raw.select_dtypes(exclude='object').columns.to_list()\n",
        "df_raw_numerik = df_raw[kolom_numerik]\n",
        "df_raw_numerik.head()"
      ],
      "execution_count": null,
      "outputs": [
        {
          "output_type": "execute_result",
          "data": {
            "text/html": [
              "<div>\n",
              "<style scoped>\n",
              "    .dataframe tbody tr th:only-of-type {\n",
              "        vertical-align: middle;\n",
              "    }\n",
              "\n",
              "    .dataframe tbody tr th {\n",
              "        vertical-align: top;\n",
              "    }\n",
              "\n",
              "    .dataframe thead th {\n",
              "        text-align: right;\n",
              "    }\n",
              "</style>\n",
              "<table border=\"1\" class=\"dataframe\">\n",
              "  <thead>\n",
              "    <tr style=\"text-align: right;\">\n",
              "      <th></th>\n",
              "      <th>fage</th>\n",
              "      <th>mage</th>\n",
              "      <th>weeks</th>\n",
              "      <th>visits</th>\n",
              "      <th>gained</th>\n",
              "      <th>weight</th>\n",
              "    </tr>\n",
              "  </thead>\n",
              "  <tbody>\n",
              "    <tr>\n",
              "      <th>0</th>\n",
              "      <td>NaN</td>\n",
              "      <td>13</td>\n",
              "      <td>39.0</td>\n",
              "      <td>10.0</td>\n",
              "      <td>38.0</td>\n",
              "      <td>7.63</td>\n",
              "    </tr>\n",
              "    <tr>\n",
              "      <th>1</th>\n",
              "      <td>NaN</td>\n",
              "      <td>14</td>\n",
              "      <td>42.0</td>\n",
              "      <td>15.0</td>\n",
              "      <td>20.0</td>\n",
              "      <td>7.88</td>\n",
              "    </tr>\n",
              "    <tr>\n",
              "      <th>2</th>\n",
              "      <td>19.0</td>\n",
              "      <td>15</td>\n",
              "      <td>37.0</td>\n",
              "      <td>11.0</td>\n",
              "      <td>38.0</td>\n",
              "      <td>6.63</td>\n",
              "    </tr>\n",
              "    <tr>\n",
              "      <th>3</th>\n",
              "      <td>21.0</td>\n",
              "      <td>15</td>\n",
              "      <td>41.0</td>\n",
              "      <td>6.0</td>\n",
              "      <td>34.0</td>\n",
              "      <td>8.00</td>\n",
              "    </tr>\n",
              "    <tr>\n",
              "      <th>4</th>\n",
              "      <td>NaN</td>\n",
              "      <td>15</td>\n",
              "      <td>39.0</td>\n",
              "      <td>9.0</td>\n",
              "      <td>27.0</td>\n",
              "      <td>6.38</td>\n",
              "    </tr>\n",
              "  </tbody>\n",
              "</table>\n",
              "</div>"
            ],
            "text/plain": [
              "   fage  mage  weeks  visits  gained  weight\n",
              "0   NaN    13   39.0    10.0    38.0    7.63\n",
              "1   NaN    14   42.0    15.0    20.0    7.88\n",
              "2  19.0    15   37.0    11.0    38.0    6.63\n",
              "3  21.0    15   41.0     6.0    34.0    8.00\n",
              "4   NaN    15   39.0     9.0    27.0    6.38"
            ]
          },
          "metadata": {
            "tags": []
          },
          "execution_count": 13
        }
      ]
    },
    {
      "cell_type": "code",
      "metadata": {
        "id": "VNzTu02wF8Hd",
        "colab": {
          "base_uri": "https://localhost:8080/",
          "height": 307
        },
        "outputId": "de1ecabf-6cdb-42eb-c3a8-d1a3a9f1afc0"
      },
      "source": [
        "kolom_kategorikal = df_raw.select_dtypes(include='object').columns.to_list()\n",
        "df_raw_kategorikal = df_raw[kolom_kategorikal]\n",
        "df_raw_kategorikal = df_raw_kategorikal.astype(str)\n",
        "df_raw_kategorikal.head()"
      ],
      "execution_count": null,
      "outputs": [
        {
          "output_type": "execute_result",
          "data": {
            "text/html": [
              "<div>\n",
              "<style scoped>\n",
              "    .dataframe tbody tr th:only-of-type {\n",
              "        vertical-align: middle;\n",
              "    }\n",
              "\n",
              "    .dataframe tbody tr th {\n",
              "        vertical-align: top;\n",
              "    }\n",
              "\n",
              "    .dataframe thead th {\n",
              "        text-align: right;\n",
              "    }\n",
              "</style>\n",
              "<table border=\"1\" class=\"dataframe\">\n",
              "  <thead>\n",
              "    <tr style=\"text-align: right;\">\n",
              "      <th></th>\n",
              "      <th>mature</th>\n",
              "      <th>premie</th>\n",
              "      <th>marital</th>\n",
              "      <th>lowbirthweight</th>\n",
              "      <th>gender</th>\n",
              "      <th>habit</th>\n",
              "      <th>whitemom</th>\n",
              "    </tr>\n",
              "  </thead>\n",
              "  <tbody>\n",
              "    <tr>\n",
              "      <th>0</th>\n",
              "      <td>younger mom</td>\n",
              "      <td>full term</td>\n",
              "      <td>married</td>\n",
              "      <td>not low</td>\n",
              "      <td>male</td>\n",
              "      <td>nonsmoker</td>\n",
              "      <td>not white</td>\n",
              "    </tr>\n",
              "    <tr>\n",
              "      <th>1</th>\n",
              "      <td>younger mom</td>\n",
              "      <td>full term</td>\n",
              "      <td>married</td>\n",
              "      <td>not low</td>\n",
              "      <td>male</td>\n",
              "      <td>nonsmoker</td>\n",
              "      <td>not white</td>\n",
              "    </tr>\n",
              "    <tr>\n",
              "      <th>2</th>\n",
              "      <td>younger mom</td>\n",
              "      <td>full term</td>\n",
              "      <td>married</td>\n",
              "      <td>not low</td>\n",
              "      <td>female</td>\n",
              "      <td>nonsmoker</td>\n",
              "      <td>white</td>\n",
              "    </tr>\n",
              "    <tr>\n",
              "      <th>3</th>\n",
              "      <td>younger mom</td>\n",
              "      <td>full term</td>\n",
              "      <td>married</td>\n",
              "      <td>not low</td>\n",
              "      <td>male</td>\n",
              "      <td>nonsmoker</td>\n",
              "      <td>white</td>\n",
              "    </tr>\n",
              "    <tr>\n",
              "      <th>4</th>\n",
              "      <td>younger mom</td>\n",
              "      <td>full term</td>\n",
              "      <td>married</td>\n",
              "      <td>not low</td>\n",
              "      <td>female</td>\n",
              "      <td>nonsmoker</td>\n",
              "      <td>not white</td>\n",
              "    </tr>\n",
              "  </tbody>\n",
              "</table>\n",
              "</div>"
            ],
            "text/plain": [
              "        mature     premie  marital lowbirthweight  gender      habit   whitemom\n",
              "0  younger mom  full term  married        not low    male  nonsmoker  not white\n",
              "1  younger mom  full term  married        not low    male  nonsmoker  not white\n",
              "2  younger mom  full term  married        not low  female  nonsmoker      white\n",
              "3  younger mom  full term  married        not low    male  nonsmoker      white\n",
              "4  younger mom  full term  married        not low  female  nonsmoker  not white"
            ]
          },
          "metadata": {
            "tags": []
          },
          "execution_count": 14
        }
      ]
    },
    {
      "cell_type": "markdown",
      "metadata": {
        "id": "KaGQDp1WFL2s"
      },
      "source": [
        "### 1.3. Data Numerik  : Describe & Histogram\n",
        "##### **Melihat gambaran awal pada Data Numerik**<br>\n",
        "\n",
        "\n"
      ]
    },
    {
      "cell_type": "code",
      "metadata": {
        "id": "l6nHHzUHF4eG",
        "colab": {
          "base_uri": "https://localhost:8080/",
          "height": 519
        },
        "outputId": "d03309e1-464c-4178-a35c-06b460d837fe"
      },
      "source": [
        "A = df_raw_numerik.hist(figsize=[16,8])"
      ],
      "execution_count": null,
      "outputs": [
        {
          "output_type": "display_data",
          "data": {
            "image/png": "[encoded data removed]",
            "text/plain": [
              "<Figure size 1152x576 with 6 Axes>"
            ]
          },
          "metadata": {
            "tags": []
          }
        }
      ]
    },
    {
      "cell_type": "code",
      "metadata": {
        "id": "cKj3uNZ7Ls9E",
        "colab": {
          "base_uri": "https://localhost:8080/",
          "height": 313
        },
        "outputId": "a905af43-ac6a-42f9-b159-c06ee49a7454"
      },
      "source": [
        "df_raw_numerik.describe()"
      ],
      "execution_count": null,
      "outputs": [
        {
          "output_type": "execute_result",
          "data": {
            "text/html": [
              "<div>\n",
              "<style scoped>\n",
              "    .dataframe tbody tr th:only-of-type {\n",
              "        vertical-align: middle;\n",
              "    }\n",
              "\n",
              "    .dataframe tbody tr th {\n",
              "        vertical-align: top;\n",
              "    }\n",
              "\n",
              "    .dataframe thead th {\n",
              "        text-align: right;\n",
              "    }\n",
              "</style>\n",
              "<table border=\"1\" class=\"dataframe\">\n",
              "  <thead>\n",
              "    <tr style=\"text-align: right;\">\n",
              "      <th></th>\n",
              "      <th>fage</th>\n",
              "      <th>mage</th>\n",
              "      <th>weeks</th>\n",
              "      <th>visits</th>\n",
              "      <th>gained</th>\n",
              "      <th>weight</th>\n",
              "    </tr>\n",
              "  </thead>\n",
              "  <tbody>\n",
              "    <tr>\n",
              "      <th>count</th>\n",
              "      <td>829.000000</td>\n",
              "      <td>1000.000000</td>\n",
              "      <td>998.000000</td>\n",
              "      <td>991.000000</td>\n",
              "      <td>973.000000</td>\n",
              "      <td>1000.00000</td>\n",
              "    </tr>\n",
              "    <tr>\n",
              "      <th>mean</th>\n",
              "      <td>30.255730</td>\n",
              "      <td>27.000000</td>\n",
              "      <td>38.334669</td>\n",
              "      <td>12.104945</td>\n",
              "      <td>30.325797</td>\n",
              "      <td>7.10100</td>\n",
              "    </tr>\n",
              "    <tr>\n",
              "      <th>std</th>\n",
              "      <td>6.763766</td>\n",
              "      <td>6.213583</td>\n",
              "      <td>2.931553</td>\n",
              "      <td>3.954934</td>\n",
              "      <td>14.241297</td>\n",
              "      <td>1.50886</td>\n",
              "    </tr>\n",
              "    <tr>\n",
              "      <th>min</th>\n",
              "      <td>14.000000</td>\n",
              "      <td>13.000000</td>\n",
              "      <td>20.000000</td>\n",
              "      <td>0.000000</td>\n",
              "      <td>0.000000</td>\n",
              "      <td>1.00000</td>\n",
              "    </tr>\n",
              "    <tr>\n",
              "      <th>25%</th>\n",
              "      <td>25.000000</td>\n",
              "      <td>22.000000</td>\n",
              "      <td>37.000000</td>\n",
              "      <td>10.000000</td>\n",
              "      <td>20.000000</td>\n",
              "      <td>6.38000</td>\n",
              "    </tr>\n",
              "    <tr>\n",
              "      <th>50%</th>\n",
              "      <td>30.000000</td>\n",
              "      <td>27.000000</td>\n",
              "      <td>39.000000</td>\n",
              "      <td>12.000000</td>\n",
              "      <td>30.000000</td>\n",
              "      <td>7.31000</td>\n",
              "    </tr>\n",
              "    <tr>\n",
              "      <th>75%</th>\n",
              "      <td>35.000000</td>\n",
              "      <td>32.000000</td>\n",
              "      <td>40.000000</td>\n",
              "      <td>15.000000</td>\n",
              "      <td>38.000000</td>\n",
              "      <td>8.06000</td>\n",
              "    </tr>\n",
              "    <tr>\n",
              "      <th>max</th>\n",
              "      <td>55.000000</td>\n",
              "      <td>50.000000</td>\n",
              "      <td>45.000000</td>\n",
              "      <td>30.000000</td>\n",
              "      <td>85.000000</td>\n",
              "      <td>11.75000</td>\n",
              "    </tr>\n",
              "  </tbody>\n",
              "</table>\n",
              "</div>"
            ],
            "text/plain": [
              "             fage         mage       weeks      visits      gained      weight\n",
              "count  829.000000  1000.000000  998.000000  991.000000  973.000000  1000.00000\n",
              "mean    30.255730    27.000000   38.334669   12.104945   30.325797     7.10100\n",
              "std      6.763766     6.213583    2.931553    3.954934   14.241297     1.50886\n",
              "min     14.000000    13.000000   20.000000    0.000000    0.000000     1.00000\n",
              "25%     25.000000    22.000000   37.000000   10.000000   20.000000     6.38000\n",
              "50%     30.000000    27.000000   39.000000   12.000000   30.000000     7.31000\n",
              "75%     35.000000    32.000000   40.000000   15.000000   38.000000     8.06000\n",
              "max     55.000000    50.000000   45.000000   30.000000   85.000000    11.75000"
            ]
          },
          "metadata": {
            "tags": []
          },
          "execution_count": 16
        }
      ]
    },
    {
      "cell_type": "markdown",
      "metadata": {
        "id": "UPW1tH_GFrjO"
      },
      "source": [
        "### 1.4. Data Kategorikal : Unique Value & Barplot\n",
        "##### **Melihat gambaran awal pada Data Numerik**<br>\n",
        "\n",
        "\n"
      ]
    },
    {
      "cell_type": "code",
      "metadata": {
        "id": "R-24kurUI9Fu",
        "colab": {
          "base_uri": "https://localhost:8080/",
          "height": 307
        },
        "outputId": "4b6e2dc0-79c1-4e36-a488-810cdbc5d20e"
      },
      "source": [
        "df_raw_kategorikal.head()"
      ],
      "execution_count": null,
      "outputs": [
        {
          "output_type": "execute_result",
          "data": {
            "text/html": [
              "<div>\n",
              "<style scoped>\n",
              "    .dataframe tbody tr th:only-of-type {\n",
              "        vertical-align: middle;\n",
              "    }\n",
              "\n",
              "    .dataframe tbody tr th {\n",
              "        vertical-align: top;\n",
              "    }\n",
              "\n",
              "    .dataframe thead th {\n",
              "        text-align: right;\n",
              "    }\n",
              "</style>\n",
              "<table border=\"1\" class=\"dataframe\">\n",
              "  <thead>\n",
              "    <tr style=\"text-align: right;\">\n",
              "      <th></th>\n",
              "      <th>mature</th>\n",
              "      <th>premie</th>\n",
              "      <th>marital</th>\n",
              "      <th>lowbirthweight</th>\n",
              "      <th>gender</th>\n",
              "      <th>habit</th>\n",
              "      <th>whitemom</th>\n",
              "    </tr>\n",
              "  </thead>\n",
              "  <tbody>\n",
              "    <tr>\n",
              "      <th>0</th>\n",
              "      <td>younger mom</td>\n",
              "      <td>full term</td>\n",
              "      <td>married</td>\n",
              "      <td>not low</td>\n",
              "      <td>male</td>\n",
              "      <td>nonsmoker</td>\n",
              "      <td>not white</td>\n",
              "    </tr>\n",
              "    <tr>\n",
              "      <th>1</th>\n",
              "      <td>younger mom</td>\n",
              "      <td>full term</td>\n",
              "      <td>married</td>\n",
              "      <td>not low</td>\n",
              "      <td>male</td>\n",
              "      <td>nonsmoker</td>\n",
              "      <td>not white</td>\n",
              "    </tr>\n",
              "    <tr>\n",
              "      <th>2</th>\n",
              "      <td>younger mom</td>\n",
              "      <td>full term</td>\n",
              "      <td>married</td>\n",
              "      <td>not low</td>\n",
              "      <td>female</td>\n",
              "      <td>nonsmoker</td>\n",
              "      <td>white</td>\n",
              "    </tr>\n",
              "    <tr>\n",
              "      <th>3</th>\n",
              "      <td>younger mom</td>\n",
              "      <td>full term</td>\n",
              "      <td>married</td>\n",
              "      <td>not low</td>\n",
              "      <td>male</td>\n",
              "      <td>nonsmoker</td>\n",
              "      <td>white</td>\n",
              "    </tr>\n",
              "    <tr>\n",
              "      <th>4</th>\n",
              "      <td>younger mom</td>\n",
              "      <td>full term</td>\n",
              "      <td>married</td>\n",
              "      <td>not low</td>\n",
              "      <td>female</td>\n",
              "      <td>nonsmoker</td>\n",
              "      <td>not white</td>\n",
              "    </tr>\n",
              "  </tbody>\n",
              "</table>\n",
              "</div>"
            ],
            "text/plain": [
              "        mature     premie  marital lowbirthweight  gender      habit   whitemom\n",
              "0  younger mom  full term  married        not low    male  nonsmoker  not white\n",
              "1  younger mom  full term  married        not low    male  nonsmoker  not white\n",
              "2  younger mom  full term  married        not low  female  nonsmoker      white\n",
              "3  younger mom  full term  married        not low    male  nonsmoker      white\n",
              "4  younger mom  full term  married        not low  female  nonsmoker  not white"
            ]
          },
          "metadata": {
            "tags": []
          },
          "execution_count": 17
        }
      ]
    },
    {
      "cell_type": "code",
      "metadata": {
        "id": "skBWGCYcF4De",
        "colab": {
          "base_uri": "https://localhost:8080/",
          "height": 626
        },
        "outputId": "2446f99b-b86e-44cb-a354-73a63d4961ef"
      },
      "source": [
        "\n",
        "n_fig = np.ceil(len(kolom_kategorikal)/2).astype(int)\n",
        "\n",
        "f, axes = plt.subplots(n_fig, 2, figsize=(16, 10), sharex=False)\n",
        "sns.despine(left=True)\n",
        "\n",
        "for i,col in enumerate(kolom_kategorikal):\n",
        "    ax_x = np.floor(i/2).astype(int)\n",
        "    ax_y = i%2\n",
        "    sns.countplot(y=col,data=df_raw_kategorikal, ax=axes[ax_x, ax_y])\n",
        "\n",
        "plt.show()\n",
        "\n"
      ],
      "execution_count": null,
      "outputs": [
        {
          "output_type": "display_data",
          "data": {
            "image/png": "[encoded data removed]",
            "text/plain": [
              "<Figure size 1152x720 with 8 Axes>"
            ]
          },
          "metadata": {
            "tags": []
          }
        }
      ]
    },
    {
      "cell_type": "code",
      "metadata": {
        "id": "ikld8VJNF4Aa",
        "colab": {
          "base_uri": "https://localhost:8080/",
          "height": 208
        },
        "outputId": "b313820d-ea76-4e3c-e620-901bd0cd1702"
      },
      "source": [
        "df_raw_kategorikal.describe(include=['object'])"
      ],
      "execution_count": null,
      "outputs": [
        {
          "output_type": "execute_result",
          "data": {
            "text/html": [
              "<div>\n",
              "<style scoped>\n",
              "    .dataframe tbody tr th:only-of-type {\n",
              "        vertical-align: middle;\n",
              "    }\n",
              "\n",
              "    .dataframe tbody tr th {\n",
              "        vertical-align: top;\n",
              "    }\n",
              "\n",
              "    .dataframe thead th {\n",
              "        text-align: right;\n",
              "    }\n",
              "</style>\n",
              "<table border=\"1\" class=\"dataframe\">\n",
              "  <thead>\n",
              "    <tr style=\"text-align: right;\">\n",
              "      <th></th>\n",
              "      <th>mature</th>\n",
              "      <th>premie</th>\n",
              "      <th>marital</th>\n",
              "      <th>lowbirthweight</th>\n",
              "      <th>gender</th>\n",
              "      <th>habit</th>\n",
              "      <th>whitemom</th>\n",
              "    </tr>\n",
              "  </thead>\n",
              "  <tbody>\n",
              "    <tr>\n",
              "      <th>count</th>\n",
              "      <td>1000</td>\n",
              "      <td>1000</td>\n",
              "      <td>1000</td>\n",
              "      <td>1000</td>\n",
              "      <td>1000</td>\n",
              "      <td>1000</td>\n",
              "      <td>1000</td>\n",
              "    </tr>\n",
              "    <tr>\n",
              "      <th>unique</th>\n",
              "      <td>2</td>\n",
              "      <td>3</td>\n",
              "      <td>3</td>\n",
              "      <td>2</td>\n",
              "      <td>2</td>\n",
              "      <td>3</td>\n",
              "      <td>3</td>\n",
              "    </tr>\n",
              "    <tr>\n",
              "      <th>top</th>\n",
              "      <td>younger mom</td>\n",
              "      <td>full term</td>\n",
              "      <td>not married</td>\n",
              "      <td>not low</td>\n",
              "      <td>female</td>\n",
              "      <td>nonsmoker</td>\n",
              "      <td>white</td>\n",
              "    </tr>\n",
              "    <tr>\n",
              "      <th>freq</th>\n",
              "      <td>867</td>\n",
              "      <td>846</td>\n",
              "      <td>613</td>\n",
              "      <td>889</td>\n",
              "      <td>503</td>\n",
              "      <td>873</td>\n",
              "      <td>714</td>\n",
              "    </tr>\n",
              "  </tbody>\n",
              "</table>\n",
              "</div>"
            ],
            "text/plain": [
              "             mature     premie      marital  ...  gender      habit whitemom\n",
              "count          1000       1000         1000  ...    1000       1000     1000\n",
              "unique            2          3            3  ...       2          3        3\n",
              "top     younger mom  full term  not married  ...  female  nonsmoker    white\n",
              "freq            867        846          613  ...     503        873      714\n",
              "\n",
              "[4 rows x 7 columns]"
            ]
          },
          "metadata": {
            "tags": []
          },
          "execution_count": 19
        }
      ]
    },
    {
      "cell_type": "markdown",
      "metadata": {
        "id": "1gCpP4KDG5W_"
      },
      "source": [
        "## 1.5 Data Cleaning\n",
        "**Data cleaning dalam hal ini terdiri dari 3 hal, yaitu:**\n",
        "1. penghapusan data duplikat\n",
        "2. pembersihan data anomaly \n",
        "3. pengisian data null "
      ]
    },
    {
      "cell_type": "markdown",
      "metadata": {
        "id": "iGk_ric6G8fX"
      },
      "source": [
        "#### 1. Penghapusan Data Duplikat"
      ]
    },
    {
      "cell_type": "code",
      "metadata": {
        "id": "E-8L9ARtZf1X",
        "colab": {
          "base_uri": "https://localhost:8080/",
          "height": 51
        },
        "outputId": "aecf8707-60e0-49af-c3bd-a67b8dcf34c0"
      },
      "source": [
        "df = df_raw.drop_duplicates()\n",
        "print(\"df sebelum drop_duplicate : \",len(df_raw))\n",
        "print(\"df setelah drop_duplicate : \",len(df))\n",
        "\n",
        "# Filter df\n",
        "df             = df_raw[df_raw.index.isin(df.index)]\n",
        "df_numerik     = df_raw_numerik[df_raw_numerik.index.isin(df.index)]\n",
        "df_kategorikal = df_raw_kategorikal[df_raw_kategorikal.index.isin(df.index)]"
      ],
      "execution_count": null,
      "outputs": [
        {
          "output_type": "stream",
          "text": [
            "df sebelum drop_duplicate :  1000\n",
            "df setelah drop_duplicate :  1000\n"
          ],
          "name": "stdout"
        }
      ]
    },
    {
      "cell_type": "markdown",
      "metadata": {
        "id": "GEAklH08HSwr"
      },
      "source": [
        "#### 2. Pembersihan Data Anomaly\n",
        "SKIP"
      ]
    },
    {
      "cell_type": "markdown",
      "metadata": {
        "id": "govM2nShIHBS"
      },
      "source": [
        "#### 3. Pengisian Data Missing\n",
        "Pengisian data missing pada data kategorikal, cukup di label dengan label 'nan'<br>\n",
        "Pengisian data missing pada data numerik, dilakukan dengan 2 tahap, yaitu \n",
        "1. diisi dengan mean jika distribusinya normal, atau median jika distribusinya skew\n",
        "2. penambahan kolom baru sebagai label bahwa data tersebut sebelumnya adalah missing.\n"
      ]
    },
    {
      "cell_type": "code",
      "metadata": {
        "id": "SarYvLUuGp2j",
        "colab": {
          "base_uri": "https://localhost:8080/",
          "height": 208
        },
        "outputId": "4a658d44-b1be-4491-9046-6d15ce6c1799"
      },
      "source": [
        "df_raw_kategorikal.describe(include=['object'])"
      ],
      "execution_count": null,
      "outputs": [
        {
          "output_type": "execute_result",
          "data": {
            "text/html": [
              "<div>\n",
              "<style scoped>\n",
              "    .dataframe tbody tr th:only-of-type {\n",
              "        vertical-align: middle;\n",
              "    }\n",
              "\n",
              "    .dataframe tbody tr th {\n",
              "        vertical-align: top;\n",
              "    }\n",
              "\n",
              "    .dataframe thead th {\n",
              "        text-align: right;\n",
              "    }\n",
              "</style>\n",
              "<table border=\"1\" class=\"dataframe\">\n",
              "  <thead>\n",
              "    <tr style=\"text-align: right;\">\n",
              "      <th></th>\n",
              "      <th>mature</th>\n",
              "      <th>premie</th>\n",
              "      <th>marital</th>\n",
              "      <th>lowbirthweight</th>\n",
              "      <th>gender</th>\n",
              "      <th>habit</th>\n",
              "      <th>whitemom</th>\n",
              "    </tr>\n",
              "  </thead>\n",
              "  <tbody>\n",
              "    <tr>\n",
              "      <th>count</th>\n",
              "      <td>1000</td>\n",
              "      <td>1000</td>\n",
              "      <td>1000</td>\n",
              "      <td>1000</td>\n",
              "      <td>1000</td>\n",
              "      <td>1000</td>\n",
              "      <td>1000</td>\n",
              "    </tr>\n",
              "    <tr>\n",
              "      <th>unique</th>\n",
              "      <td>2</td>\n",
              "      <td>3</td>\n",
              "      <td>3</td>\n",
              "      <td>2</td>\n",
              "      <td>2</td>\n",
              "      <td>3</td>\n",
              "      <td>3</td>\n",
              "    </tr>\n",
              "    <tr>\n",
              "      <th>top</th>\n",
              "      <td>younger mom</td>\n",
              "      <td>full term</td>\n",
              "      <td>not married</td>\n",
              "      <td>not low</td>\n",
              "      <td>female</td>\n",
              "      <td>nonsmoker</td>\n",
              "      <td>white</td>\n",
              "    </tr>\n",
              "    <tr>\n",
              "      <th>freq</th>\n",
              "      <td>867</td>\n",
              "      <td>846</td>\n",
              "      <td>613</td>\n",
              "      <td>889</td>\n",
              "      <td>503</td>\n",
              "      <td>873</td>\n",
              "      <td>714</td>\n",
              "    </tr>\n",
              "  </tbody>\n",
              "</table>\n",
              "</div>"
            ],
            "text/plain": [
              "             mature     premie      marital  ...  gender      habit whitemom\n",
              "count          1000       1000         1000  ...    1000       1000     1000\n",
              "unique            2          3            3  ...       2          3        3\n",
              "top     younger mom  full term  not married  ...  female  nonsmoker    white\n",
              "freq            867        846          613  ...     503        873      714\n",
              "\n",
              "[4 rows x 7 columns]"
            ]
          },
          "metadata": {
            "tags": []
          },
          "execution_count": 21
        }
      ]
    },
    {
      "cell_type": "code",
      "metadata": {
        "id": "uWFzsUs3Gp5L",
        "colab": {
          "base_uri": "https://localhost:8080/",
          "height": 313
        },
        "outputId": "4aa6cf10-3a1a-4242-a8f4-981b6b53cc0b"
      },
      "source": [
        "df_numerik.describe()\n",
        "\n",
        "data_numerik.fage /.fillna()"
      ],
      "execution_count": null,
      "outputs": [
        {
          "output_type": "execute_result",
          "data": {
            "text/html": [
              "<div>\n",
              "<style scoped>\n",
              "    .dataframe tbody tr th:only-of-type {\n",
              "        vertical-align: middle;\n",
              "    }\n",
              "\n",
              "    .dataframe tbody tr th {\n",
              "        vertical-align: top;\n",
              "    }\n",
              "\n",
              "    .dataframe thead th {\n",
              "        text-align: right;\n",
              "    }\n",
              "</style>\n",
              "<table border=\"1\" class=\"dataframe\">\n",
              "  <thead>\n",
              "    <tr style=\"text-align: right;\">\n",
              "      <th></th>\n",
              "      <th>fage</th>\n",
              "      <th>mage</th>\n",
              "      <th>weeks</th>\n",
              "      <th>visits</th>\n",
              "      <th>gained</th>\n",
              "      <th>weight</th>\n",
              "    </tr>\n",
              "  </thead>\n",
              "  <tbody>\n",
              "    <tr>\n",
              "      <th>count</th>\n",
              "      <td>829.000000</td>\n",
              "      <td>1000.000000</td>\n",
              "      <td>998.000000</td>\n",
              "      <td>991.000000</td>\n",
              "      <td>973.000000</td>\n",
              "      <td>1000.00000</td>\n",
              "    </tr>\n",
              "    <tr>\n",
              "      <th>mean</th>\n",
              "      <td>30.255730</td>\n",
              "      <td>27.000000</td>\n",
              "      <td>38.334669</td>\n",
              "      <td>12.104945</td>\n",
              "      <td>30.325797</td>\n",
              "      <td>7.10100</td>\n",
              "    </tr>\n",
              "    <tr>\n",
              "      <th>std</th>\n",
              "      <td>6.763766</td>\n",
              "      <td>6.213583</td>\n",
              "      <td>2.931553</td>\n",
              "      <td>3.954934</td>\n",
              "      <td>14.241297</td>\n",
              "      <td>1.50886</td>\n",
              "    </tr>\n",
              "    <tr>\n",
              "      <th>min</th>\n",
              "      <td>14.000000</td>\n",
              "      <td>13.000000</td>\n",
              "      <td>20.000000</td>\n",
              "      <td>0.000000</td>\n",
              "      <td>0.000000</td>\n",
              "      <td>1.00000</td>\n",
              "    </tr>\n",
              "    <tr>\n",
              "      <th>25%</th>\n",
              "      <td>25.000000</td>\n",
              "      <td>22.000000</td>\n",
              "      <td>37.000000</td>\n",
              "      <td>10.000000</td>\n",
              "      <td>20.000000</td>\n",
              "      <td>6.38000</td>\n",
              "    </tr>\n",
              "    <tr>\n",
              "      <th>50%</th>\n",
              "      <td>30.000000</td>\n",
              "      <td>27.000000</td>\n",
              "      <td>39.000000</td>\n",
              "      <td>12.000000</td>\n",
              "      <td>30.000000</td>\n",
              "      <td>7.31000</td>\n",
              "    </tr>\n",
              "    <tr>\n",
              "      <th>75%</th>\n",
              "      <td>35.000000</td>\n",
              "      <td>32.000000</td>\n",
              "      <td>40.000000</td>\n",
              "      <td>15.000000</td>\n",
              "      <td>38.000000</td>\n",
              "      <td>8.06000</td>\n",
              "    </tr>\n",
              "    <tr>\n",
              "      <th>max</th>\n",
              "      <td>55.000000</td>\n",
              "      <td>50.000000</td>\n",
              "      <td>45.000000</td>\n",
              "      <td>30.000000</td>\n",
              "      <td>85.000000</td>\n",
              "      <td>11.75000</td>\n",
              "    </tr>\n",
              "  </tbody>\n",
              "</table>\n",
              "</div>"
            ],
            "text/plain": [
              "             fage         mage       weeks      visits      gained      weight\n",
              "count  829.000000  1000.000000  998.000000  991.000000  973.000000  1000.00000\n",
              "mean    30.255730    27.000000   38.334669   12.104945   30.325797     7.10100\n",
              "std      6.763766     6.213583    2.931553    3.954934   14.241297     1.50886\n",
              "min     14.000000    13.000000   20.000000    0.000000    0.000000     1.00000\n",
              "25%     25.000000    22.000000   37.000000   10.000000   20.000000     6.38000\n",
              "50%     30.000000    27.000000   39.000000   12.000000   30.000000     7.31000\n",
              "75%     35.000000    32.000000   40.000000   15.000000   38.000000     8.06000\n",
              "max     55.000000    50.000000   45.000000   30.000000   85.000000    11.75000"
            ]
          },
          "metadata": {
            "tags": []
          },
          "execution_count": 24
        }
      ]
    },
    {
      "cell_type": "code",
      "metadata": {
        "id": "yKGYtkgKEwki"
      },
      "source": [
        ""
      ],
      "execution_count": null,
      "outputs": []
    },
    {
      "cell_type": "markdown",
      "metadata": {
        "id": "tsZi1EJNIdMz"
      },
      "source": [
        "## **EXPLORATORY ANALYTIC**\n",
        "\n",
        "Tahap penemuan pattern dan fitur baru (Feature Engineering)\n",
        "\n",
        "1. Ekstraksi Fitur baru dari pattern\n",
        "2. Ekstraksi Fitur baru dari luar pattern\n",
        "\n",
        "*Note : Fitur merupakan kolom-kolom dataframe yang sudah dalam bentuk final dan siap untuk dimasukkan sebagai data training*"
      ]
    },
    {
      "cell_type": "markdown",
      "metadata": {
        "id": "ZX1Y7gPaIWiC"
      },
      "source": [
        "### 1. Ekstraksi Fitur dari pattern\n",
        "\n",
        "**Ekstraksi Fitur dilakukan untuk mengkonversi data ke bentuk yang lebih masuk akal untuk di training, yaitu:**\n",
        "1. Ekstraksi Fitur Numerikal\n",
        "2. Ekstraksi Fitur Kategori\n",
        "\n",
        "Kolom Boolean akan sama dengan Fitur, sehingga tidak perlu diproses"
      ]
    },
    {
      "cell_type": "markdown",
      "metadata": {
        "id": "e5mDjow4IhA6"
      },
      "source": [
        "#### 1. Ekstraksi Numerikal\n",
        "**Bertujuan untuk mendapatkan suatu group baru, misal dari umur menjadi  =>  ['anak2','remaja','dewasa','tua']**<br>\n",
        "*Ekstraksi fitur dapat dilihat dari distribusi nilai tiap kolom numerikal terhadap label fraudnya. <br>Dengan kolom sebagai berikut* \n",
        "\n",
        "1. `amount`\n",
        "2. `hour1`\n",
        "3. `hour2`\n",
        "4. `total`\n",
        "5. `field3`\n",
        "6. `field4`\n",
        "7. `field5`"
      ]
    },
    {
      "cell_type": "code",
      "metadata": {
        "id": "JTtwN5zYGp8B"
      },
      "source": [
        "list_numerikal = [\"amount\",\"hour1\",\"hour2\",\"total\",\"field3\",\"field4\",\"field5\"]"
      ],
      "execution_count": null,
      "outputs": []
    },
    {
      "cell_type": "code",
      "metadata": {
        "id": "ieqp9lUPGqCI"
      },
      "source": [
        "## Tendensi data per kolom\n",
        "\n",
        "for name in list_numerikal:\n",
        "    sns.violinplot(y=DataRawX_cleaned[name] , x=DataRawX_cleaned[\"y_str\"], data=DataRawX_cleaned)\n",
        "    plt.show()"
      ],
      "execution_count": null,
      "outputs": []
    },
    {
      "cell_type": "code",
      "metadata": {
        "id": "rh__GLb_GqFq"
      },
      "source": [
        "# for name in list_numerikal:\n",
        "#     print(name)\n",
        "#     DataRawX_cleaned[name].hist()\n",
        "#     DataRawX_cleaned[name].where(DataRawX_cleaned.y_int==0).hist()\n",
        "#     DataRawX_cleaned[name].where(DataRawX_cleaned.y_int==1).hist()\n",
        "#     plt.show()"
      ],
      "execution_count": null,
      "outputs": []
    },
    {
      "cell_type": "markdown",
      "metadata": {
        "id": "7FF_i0urJI50"
      },
      "source": [
        "Dapat dilihat dari ***histogram*** ataupun ***violinplot*** bahwa tendensi fraud dan tidak fraud hanya terlihat di kolom `hour1` dan `hour2` <br>\n",
        "dimana fraud lebih banyak terlihat di pagi hari.\n",
        "<br><br>\n"
      ]
    },
    {
      "cell_type": "code",
      "metadata": {
        "id": "h1KRCu0GI1xo"
      },
      "source": [
        "## Tendensi kohort/ group antar 2 kolom\n",
        "\n",
        "for name1 in list_numerikal:\n",
        "    for name2 in list_numerikal:\n",
        "        if(name1!=name2):\n",
        "            print(\"##############\")\n",
        "            print(name1,\" vs \",name2)\n",
        "            print(\"##############\")\n",
        "            sns.lmplot(y=name1, x=name2, hue='y_str', data=DataRawX_cleaned, fit_reg=False)\n",
        "            plt.show()\n",
        "            sns.lmplot(y=name1, x=name2, hue='y_str', data=DataRawX_cleaned[DataRawX_cleaned.y_int==1], fit_reg=False)\n",
        "            plt.show()"
      ],
      "execution_count": null,
      "outputs": []
    },
    {
      "cell_type": "markdown",
      "metadata": {
        "id": "1maN9o5RJViQ"
      },
      "source": [
        "Dapat dilihat dari ***lmplot*** bahwa ada suatu grup di kolom `field5` pada nilai [9] dan `field3` pada nilai [-9636,5749] <br>\n",
        "Maka kita dapat membuat kolom baru `susp_field5` dengan `field5`=9 dan -10000<`field3`<6000"
      ]
    },
    {
      "cell_type": "code",
      "metadata": {
        "id": "5cHwyHiiI10T"
      },
      "source": [
        "# Value field3\n",
        "\n",
        "DataRawX_cleaned[(DataRawX_cleaned.field5==9) & (DataRawX_cleaned.y_int==1)].sort_values(\"field3\").field3.head(10)"
      ],
      "execution_count": null,
      "outputs": []
    },
    {
      "cell_type": "code",
      "metadata": {
        "id": "7Jk4lfawI18U"
      },
      "source": [
        "def susp_field5(x):\n",
        "    if(x.field5==9 and x.field3>-10000 and x.field3 <6000):\n",
        "        return 1\n",
        "    else:\n",
        "        return 0\n",
        "      \n",
        "DataRawX_cleaned[\"susp_field3_5\"] = DataRawX_cleaned.apply(lambda x : susp_field5(x), axis=1) "
      ],
      "execution_count": null,
      "outputs": []
    },
    {
      "cell_type": "markdown",
      "metadata": {
        "id": "aiV2QXKyiBUa"
      },
      "source": [
        "Dapat dilihat dari ***lmplot*** bahwa ada suatu grup di kolom `field5` pada nilai [9] dan `field3` pada nilai [-9636,5749] <br>\n",
        "Maka kita dapat membuat kolom baru `susp_field5` dengan `field5`=9 dan -10000<`field3`<6000"
      ]
    },
    {
      "cell_type": "code",
      "metadata": {
        "id": "CVyU5Lx9iAp_"
      },
      "source": [
        "def susp_hour(x):\n",
        "    if(x.hour1<=5):\n",
        "        return 1\n",
        "    else:\n",
        "        return 0\n",
        "def susp_amount1(x):\n",
        "    if(x.amount<20):\n",
        "        return 1\n",
        "    else:\n",
        "        return 0\n",
        "def susp_amount2(x):\n",
        "    if(x.amount>30):\n",
        "        return 1\n",
        "    else:\n",
        "        return 0\n",
        "      \n",
        "DataRawX_cleaned[\"susp_hour\"] = DataRawX_cleaned.apply(lambda x : susp_hour(x), axis=1) \n",
        "DataRawX_cleaned[\"susp_amount1\"] = DataRawX_cleaned.apply(lambda x : susp_amount1(x), axis=1) \n",
        "DataRawX_cleaned[\"susp_amount2\"] = DataRawX_cleaned.apply(lambda x : susp_amount2(x), axis=1) "
      ],
      "execution_count": null,
      "outputs": []
    },
    {
      "cell_type": "code",
      "metadata": {
        "id": "ofZCKhWFJlfv"
      },
      "source": [
        "DataRawX_cleaned.head(5)"
      ],
      "execution_count": null,
      "outputs": []
    },
    {
      "cell_type": "markdown",
      "metadata": {
        "id": "y75bNKFpJw8x"
      },
      "source": [
        "#### 2. Ekstraksi Kategorikal\n",
        "**Bertujuan untuk membuat representasi numerik dari kolom kategorikal**<br><br>\n",
        "*Ekstraksi fitur dapat dilakukan dengan* \n",
        "\n",
        "1. grouping kategori menjadi kategori yang lebih umum/sedikit.\n",
        "2. dikonversi menjadi nilai lain, misalnya nilai persentase kemunculan dalam satu kumpulan data.\n",
        "\n",
        "<br>*Dengan kolom sebagai berikut* \n",
        "\n",
        "1. `state1`\n",
        "2. `zip1`\n",
        "3. `domain1`\n",
        "4. `field1`"
      ]
    },
    {
      "cell_type": "code",
      "metadata": {
        "id": "zuO3s5JJJlip"
      },
      "source": [
        "## Grouping kategori\n",
        "\n",
        "fig, ax = plt.subplots(figsize=[4,6])\n",
        "sns.countplot(y='domain1',data=DataRawX_cleaned.head(1000))"
      ],
      "execution_count": null,
      "outputs": []
    },
    {
      "cell_type": "code",
      "metadata": {
        "id": "tKB5D8NKKAzV"
      },
      "source": [
        "## Segmentasi Domain1 ke dalam kategorikan baru berdasarkan total Domain dalam data.\n",
        "\n",
        "def segment(x):\n",
        "    if(x.amount==1):\n",
        "        return \"first_timer\"\n",
        "    elif(x.amount>1 and x.amount<=10):\n",
        "        return \"rare\"\n",
        "    elif(x.amount>10 and x.amount<=1000):\n",
        "        return \"common\"\n",
        "    else:\n",
        "        return \"top\"\n",
        "\n",
        "      \n",
        "df_group = {}\n",
        "\n",
        "# write you own code for Q03 here\n",
        "df_group[\"domain2\"] = DataRawX_cleaned[['domain1','amount']].groupby('domain1').count().reset_index().\\\n",
        "    sort_values('amount').reset_index(drop=True)\n",
        "df_group[\"domain2\"][\"domain2\"] = df_group[\"domain2\"].apply(lambda x : segment(x), axis=1)"
      ],
      "execution_count": null,
      "outputs": []
    },
    {
      "cell_type": "code",
      "metadata": {
        "id": "lEVO-pg4KA2H"
      },
      "source": [
        "DataX_cleaned = DataRawX_cleaned.reset_index().merge(df_group[\"domain2\"][[\"domain1\",\"domain2\"]],on=\"domain1\",how=\"left\").set_index(\"index\")"
      ],
      "execution_count": null,
      "outputs": []
    },
    {
      "cell_type": "code",
      "metadata": {
        "id": "UN9W5vDdKA4u"
      },
      "source": [
        "DataX_cleaned.head()"
      ],
      "execution_count": null,
      "outputs": []
    },
    {
      "cell_type": "code",
      "metadata": {
        "id": "HPlSLRwvKSTC"
      },
      "source": [
        "sns.countplot(y='domain2', data=DataX_cleaned[DataX_cleaned.y_int==1])\n",
        "plt.show()"
      ],
      "execution_count": null,
      "outputs": []
    },
    {
      "cell_type": "code",
      "metadata": {
        "id": "VOcUak0EMzwx"
      },
      "source": [
        "## Ekstraksi Nilai Kemunculan\n",
        "\n",
        "\n",
        "A = DataRawX_cleaned[DataRawX_cleaned.y_int==1][['domain1','amount']].groupby('domain1').count().reset_index().reset_index(drop=True)\n",
        "B = DataRawX_cleaned[['domain1','amount']].groupby('domain1').count().reset_index().reset_index(drop=True)\n",
        "C = B.merge(A, on=\"domain1\",how=\"left\")\n",
        "C.loc[C.amount_y.isnull(),\"amount_y\"] = 0\n",
        "C[\"domain_ratio\"] = C.amount_y/C.amount_x\n",
        "df_group[\"domain\"] = C[[\"domain1\",\"domain_ratio\"]]\n",
        "\n",
        "A = DataRawX_cleaned[DataRawX_cleaned.y_int==1][['zip1','amount']].groupby('zip1').count().reset_index().reset_index(drop=True)\n",
        "B = DataRawX_cleaned[['zip1','amount']].groupby('zip1').count().reset_index().reset_index(drop=True)\n",
        "C = B.merge(A, on=\"zip1\",how=\"left\")\n",
        "C.loc[C.amount_y.isnull(),\"amount_y\"] = 0\n",
        "C[\"zip_ratio\"] = C.amount_y/C.amount_x\n",
        "df_group[\"zip\"] = C[[\"zip1\",\"zip_ratio\"]]\n",
        "\n",
        "A = DataRawX_cleaned[DataRawX_cleaned.y_int==1][['state1','amount']].groupby('state1').count().reset_index().reset_index(drop=True)\n",
        "B = DataRawX_cleaned[['state1','amount']].groupby('state1').count().reset_index().reset_index(drop=True)\n",
        "C = B.merge(A, on=\"state1\",how=\"left\")\n",
        "C.loc[C.amount_y.isnull(),\"amount_y\"] = 0\n",
        "C[\"state_ratio\"] = C.amount_y/C.amount_x\n",
        "df_group[\"state\"] = C[[\"state1\",\"state_ratio\"]]\n",
        "\n",
        "DataX_cleaned = DataRawX_cleaned\n",
        "DataX_cleaned = DataX_cleaned.reset_index().merge(df_group[\"domain2\"][[\"domain1\",\"domain2\"]],on=\"domain1\",how=\"left\").set_index('index')\n",
        "DataX_cleaned = DataX_cleaned.reset_index().merge(df_group[\"domain\"][[\"domain1\",\"domain_ratio\"]],on=\"domain1\",how=\"left\").set_index('index')\n",
        "DataX_cleaned = DataX_cleaned.reset_index().merge(df_group[\"state\"][[\"state1\",\"state_ratio\"]],on=\"state1\",how=\"left\").set_index('index')\n",
        "DataX_cleaned = DataX_cleaned.reset_index().merge(df_group[\"zip\"][[\"zip1\",\"zip_ratio\"]],on=\"zip1\",how=\"left\").set_index('index')\n",
        "DataX_cleaned.head()"
      ],
      "execution_count": null,
      "outputs": []
    },
    {
      "cell_type": "code",
      "metadata": {
        "id": "xUZr33KMjwRo"
      },
      "source": [
        "trio = [\"state_ratio\",\"zip_ratio\",\"domain_ratio\"]\n",
        "\n",
        "for name in trio:\n",
        "    sns.violinplot(y=DataX_cleaned[name] , x=DataX_cleaned[\"y_str\"], data=DataX_cleaned)\n",
        "    plt.show()"
      ],
      "execution_count": null,
      "outputs": []
    },
    {
      "cell_type": "code",
      "metadata": {
        "id": "q7k5U9oQjw3h"
      },
      "source": [
        "def susp_zip1(x):\n",
        "    if(x.zip_ratio>0.4):\n",
        "        return 1\n",
        "    else:\n",
        "        return 0\n",
        "def susp_zip2(x):\n",
        "    if(x.zip_ratio>0.1 and x.zip_ratio<0.3):\n",
        "        return 1\n",
        "    else:\n",
        "        return 0\n",
        "\n",
        "DataX_cleaned[\"susp_zip1\"] = DataX_cleaned.apply(lambda x : susp_zip1(x), axis=1) \n",
        "DataX_cleaned[\"susp_zip2\"] = DataX_cleaned.apply(lambda x : susp_zip2(x), axis=1) "
      ],
      "execution_count": null,
      "outputs": []
    },
    {
      "cell_type": "code",
      "metadata": {
        "id": "HcnBwilbkAXK"
      },
      "source": [
        "DataX_cleaned.head(1)"
      ],
      "execution_count": null,
      "outputs": []
    },
    {
      "cell_type": "markdown",
      "metadata": {
        "id": "iMqjziQrKuFg"
      },
      "source": [
        "### Data Final"
      ]
    },
    {
      "cell_type": "markdown",
      "metadata": {
        "id": "1tSfc0i9Pio7"
      },
      "source": [
        "#### Hot Encoding Kategori"
      ]
    },
    {
      "cell_type": "code",
      "metadata": {
        "id": "JA7Y8PdWO0Ha"
      },
      "source": [
        "DataY_final = DataX_cleaned.y_int\n",
        "DataY_final = pd.DataFrame(DataX_cleaned.y_int).rename(columns={\"y_int\":0})\n",
        "\n",
        "DataX_final = DataX_cleaned.drop([\"y_str\",\"y_int\"],1)\n",
        "DataX_final = pd.get_dummies(DataX_final,columns=[\"field1\",\"domain2\"])"
      ],
      "execution_count": null,
      "outputs": []
    },
    {
      "cell_type": "code",
      "metadata": {
        "id": "q4OJNHlEnb4R"
      },
      "source": [
        "DataX_final.head(1)"
      ],
      "execution_count": null,
      "outputs": []
    },
    {
      "cell_type": "code",
      "metadata": {
        "id": "0gMLt48XLXtY"
      },
      "source": [
        "from sklearn.ensemble import RandomForestClassifier\n",
        "from sklearn.metrics import confusion_matrix, classification_report\n",
        "\n",
        "\n",
        "\"\"\"list_col = [\"hour1\",\"amount\",\"zip_ratio\",\"domain_ratio\",\\\n",
        "            \"indikator_jam_dicurigai\",\"indikator_jam_dicurigai2\",\"indikator_jam_dicurigai3\",\\\n",
        "            \"indikator_amount_dicurigai2\",\"indikator_zip_dicurigai\",\\\n",
        "            \"field3\",\"field5\",\"flag5\",\"indikator_flag5\",\\\n",
        "            \"domain2_common\",\"domain2_first_timer\",\"domain2_popular\",\"domain2_rare\"]\n",
        "\"\"\"\n",
        "list_col = DataTrainX.columns.drop([\\\n",
        "            \"state1\",\"zip1\",\"domain1\",\\\n",
        "            \"domain2_common\",\"domain2_top\",\"domain2_rare\"])\n",
        "\n",
        "\n",
        "clf = RandomForestClassifier(n_estimators=100)\n",
        "clf.fit(DataTrainX[list_col], DataTrainY)\n",
        "y_predtrain1 = clf.predict(DataTrainX[list_col])\n",
        "#y_predtest1 = clf.predict(DataTestX[list_col])\n",
        "y_predtrain = pd.DataFrame(y_predtrain1)\n",
        "#y_predtest = pd.DataFrame(y_predtest1)\n",
        "\n",
        "print(classification_report(y_predtrain1, DataTrainY))\n",
        "print(confusion_matrix(y_predtrain1, DataTrainY))\n",
        "#print(classification_report(y_predtest1, DataTestY))\n",
        "#print(confusion_matrix(y_predtest1, DataTestY))"
      ],
      "execution_count": null,
      "outputs": []
    },
    {
      "cell_type": "markdown",
      "metadata": {
        "id": "L9ewBoGdK-5C"
      },
      "source": [
        "## PREDICTIVE ANALYTIC"
      ]
    },
    {
      "cell_type": "markdown",
      "metadata": {
        "id": "fvFGq9lTLCZS"
      },
      "source": [
        "Tahap predictive analytic terdiri dari :\n",
        "1. Penentuan model dan hyperparameternya\n",
        "2. Training Model"
      ]
    },
    {
      "cell_type": "markdown",
      "metadata": {
        "id": "hfXXrT3sv557"
      },
      "source": [
        "#### Training Model"
      ]
    },
    {
      "cell_type": "code",
      "metadata": {
        "id": "43JlINjnoSZG"
      },
      "source": [
        "import os\n",
        "import pandas as pd\n",
        "from sklearn import preprocessing\n",
        "import numpy as np\n",
        "import seaborn as sns\n",
        "import matplotlib.pyplot as plt\n",
        "\n",
        "\n",
        "def susp_field5(x):\n",
        "    if(x.field5==9 and x.field3>-10000 and x.field3 <6000):\n",
        "        return 1\n",
        "    else:\n",
        "        return 0\n",
        "def susp_hour(x):\n",
        "    if(x.hour1<=5):\n",
        "        return 1\n",
        "    else:\n",
        "        return 0\n",
        "def susp_amount1(x):\n",
        "    if(x.amount<20):\n",
        "        return 1\n",
        "    else:\n",
        "        return 0\n",
        "def susp_amount2(x):\n",
        "    if(x.amount>30):\n",
        "        return 1\n",
        "    else:\n",
        "        return 0   \n",
        "    \n",
        "def susp_zip1(x):\n",
        "    if(x.zip_ratio>0.4):\n",
        "        return 1\n",
        "    else:\n",
        "        return 0\n",
        "def susp_zip2(x):\n",
        "    if(x.zip_ratio>0.1 and x.zip_ratio<0.3):\n",
        "        return 1\n",
        "    else:\n",
        "        return 0\n",
        "    \n",
        "def segment(x):\n",
        "    if(x.amount==1):\n",
        "        return \"first_timer\"\n",
        "    elif(x.amount>1 and x.amount<=10):\n",
        "        return \"rare\"\n",
        "    elif(x.amount>10 and x.amount<=1000):\n",
        "        return \"common\"\n",
        "    else:\n",
        "        return \"top\"\n",
        "      \n",
        "def clean_data_train(X,Y):\n",
        "    DataRawX = X\n",
        "    DataRawY = Y\n",
        "    DataRawX[\"y_str\"] = DataRawY[0].astype(str)\n",
        "    DataRawX[\"y_int\"] = DataRawY[0]\n",
        "    \n",
        "    ## Data Cleaning\n",
        "    DataRawX.field1             = DataRawX.field1.astype(str)\n",
        "    DataRawX.drop_duplicates(inplace=True)\n",
        "    \n",
        "    DataRawX_cleaned            = DataRawX\n",
        "    DataRawX[\"indicator_flag5\"] = DataRawX.flag5.apply(lambda x : 1 if x>1 else 0)\n",
        "    DataRawX_cleaned.flag5      = DataRawX_cleaned.flag5.apply(lambda x : 1 if bool(x) else 0)\n",
        "\n",
        "    DataRawX_cleaned[\"domain1\"] = DataRawX_cleaned[\"domain1\"].fillna(\"missing\")\n",
        "    \n",
        "    ## Ekstraksi Fitur\n",
        "    DataRawX_cleaned[\"susp_field5\"] = DataRawX_cleaned.apply(lambda x : susp_field5(x), axis=1)\n",
        "    DataRawX_cleaned[\"susp_hour\"] = DataRawX_cleaned.apply(lambda x : susp_hour(x), axis=1)\n",
        "    DataRawX_cleaned[\"susp_amount1\"] = DataRawX_cleaned.apply(lambda x : susp_amount1(x), axis=1)\n",
        "    DataRawX_cleaned[\"susp_amount2\"] = DataRawX_cleaned.apply(lambda x : susp_amount2(x), axis=1)\n",
        "    \n",
        "    \n",
        "    df_group = {}\n",
        "    \n",
        "    df_group[\"domain2\"] = DataRawX_cleaned[['domain1','amount']].groupby('domain1').count().reset_index().sort_values('amount').reset_index(drop=True)\n",
        "    df_group[\"domain2\"][\"domain2\"] = df_group[\"domain2\"].apply(lambda x : segment(x), axis=1)\n",
        "    \n",
        "    \n",
        "    A = DataRawX_cleaned[DataRawX_cleaned.y_int==1][['domain1','amount']].groupby('domain1').count().reset_index().reset_index(drop=True)\n",
        "    B = DataRawX_cleaned[['domain1','amount']].groupby('domain1').count().reset_index().reset_index(drop=True)\n",
        "    C = B.merge(A, on=\"domain1\",how=\"left\")\n",
        "    C.loc[C.amount_y.isnull(),\"amount_y\"] = 0\n",
        "    C[\"domain_ratio\"] = C.amount_y/C.amount_x\n",
        "    df_group[\"domain\"] = C[[\"domain1\",\"domain_ratio\"]]\n",
        "\n",
        "    A = DataRawX_cleaned[DataRawX_cleaned.y_int==1][['state1','amount']].groupby('state1').count().reset_index().reset_index(drop=True)\n",
        "    B = DataRawX_cleaned[['state1','amount']].groupby('state1').count().reset_index().reset_index(drop=True)\n",
        "    C = B.merge(A, on=\"state1\",how=\"left\")\n",
        "    C.loc[C.amount_y.isnull(),\"amount_y\"] = 0\n",
        "    C[\"state_ratio\"] = C.amount_y/C.amount_x\n",
        "    df_group[\"state\"] = C[[\"state1\",\"state_ratio\"]]\n",
        "\n",
        "    A = DataRawX_cleaned[DataRawX_cleaned.y_int==1][['zip1','amount']].groupby('zip1').count().reset_index().reset_index(drop=True)\n",
        "    B = DataRawX_cleaned[['zip1','amount']].groupby('zip1').count().reset_index().reset_index(drop=True)\n",
        "    C = B.merge(A, on=\"zip1\",how=\"left\")\n",
        "    C.loc[C.amount_y.isnull(),\"amount_y\"] = 0\n",
        "    C[\"zip_ratio\"] = C.amount_y/C.amount_x\n",
        "    df_group[\"zip\"] = C[[\"zip1\",\"zip_ratio\"]]\n",
        "\n",
        "    DataX_cleaned = DataRawX_cleaned\n",
        "    DataX_cleaned = DataX_cleaned.reset_index().merge(df_group[\"domain2\"][[\"domain1\",\"domain2\"]],on=\"domain1\",how=\"left\").set_index('index')\n",
        "    DataX_cleaned = DataX_cleaned.reset_index().merge(df_group[\"domain\"][[\"domain1\",\"domain_ratio\"]],on=\"domain1\",how=\"left\").set_index('index')\n",
        "    DataX_cleaned = DataX_cleaned.reset_index().merge(df_group[\"state\"][[\"state1\",\"state_ratio\"]],on=\"state1\",how=\"left\").set_index('index')\n",
        "    DataX_cleaned = DataX_cleaned.reset_index().merge(df_group[\"zip\"][[\"zip1\",\"zip_ratio\"]],on=\"zip1\",how=\"left\").set_index('index')\n",
        "    \n",
        "    DataX_cleaned[\"susp_zip1\"] = DataX_cleaned.apply(lambda x : susp_zip1(x), axis=1)\n",
        "    DataX_cleaned[\"susp_zip2\"] = DataX_cleaned.apply(lambda x : susp_zip2(x), axis=1)\n",
        "    \n",
        "    \n",
        "    DataY_final = DataX_cleaned.y_int\n",
        "    DataY_final = pd.DataFrame(DataX_cleaned.y_int).rename(columns={\"y_int\":0})\n",
        "\n",
        "    DataX_final = DataX_cleaned.drop([\"y_str\",\"y_int\"],1)\n",
        "    DataX_final = pd.get_dummies(DataX_final,columns=[\"field1\",\"domain2\"])\n",
        "    \n",
        "    return DataX_final,DataY_final,df_group\n",
        "  \n",
        "  \n",
        "      \n",
        "def clean_data_test(X,Y,df_group_from_train):\n",
        "    DataRawX = X\n",
        "    DataRawY = Y\n",
        "    DataRawX[\"y_str\"] = DataRawY[0].astype(str)\n",
        "    DataRawX[\"y_int\"] = DataRawY[0]\n",
        "    \n",
        "    ## Data Cleaning\n",
        "    DataRawX.field1             = DataRawX.field1.astype(str)\n",
        "    DataRawX.drop_duplicates(inplace=True)\n",
        "    \n",
        "    DataRawX_cleaned            = DataRawX\n",
        "    DataRawX[\"indicator_flag5\"] = DataRawX.flag5.apply(lambda x : 1 if x>1 else 0)\n",
        "    DataRawX_cleaned.flag5      = DataRawX_cleaned.flag5.apply(lambda x : 1 if bool(x) else 0)\n",
        "\n",
        "    DataRawX_cleaned[\"domain1\"] = DataRawX_cleaned[\"domain1\"].fillna(\"missing\")\n",
        "    \n",
        "    ## Ekstraksi Fitur\n",
        "    DataRawX_cleaned[\"susp_field5\"] = DataRawX_cleaned.apply(lambda x : susp_field5(x), axis=1)\n",
        "    DataRawX_cleaned[\"susp_hour\"] = DataRawX_cleaned.apply(lambda x : susp_hour(x), axis=1)\n",
        "    DataRawX_cleaned[\"susp_amount1\"] = DataRawX_cleaned.apply(lambda x : susp_amount1(x), axis=1)\n",
        "    DataRawX_cleaned[\"susp_amount2\"] = DataRawX_cleaned.apply(lambda x : susp_amount2(x), axis=1)\n",
        "    \n",
        "    \n",
        "    DataX_cleaned = DataRawX_cleaned.reset_index().merge(df_group_from_train[\"domain2\"][[\"domain1\",\"domain2\"]],on=\"domain1\",how=\"left\").set_index('index')\n",
        "    DataX_cleaned[DataX_cleaned.domain2.isnull()][\"domain2\"] = \"first_timer\"\n",
        "    \n",
        "    DataX_cleaned = DataX_cleaned.reset_index().merge(df_group_from_train[\"domain\"][[\"domain1\",\"domain_ratio\"]],on=\"domain1\",how=\"left\").set_index('index')\n",
        "    DataX_cleaned.loc[DataX_cleaned.domain_ratio.isnull(),\"domain_ratio\"] = 0\n",
        "    DataX_cleaned = DataX_cleaned.reset_index().merge(df_group_from_train[\"state\"][[\"state1\",\"state_ratio\"]],on=\"state1\",how=\"left\").set_index('index')\n",
        "    DataX_cleaned.loc[DataX_cleaned.state_ratio.isnull(),\"state_ratio\"] = 0\n",
        "    DataX_cleaned = DataX_cleaned.reset_index().merge(df_group_from_train[\"zip\"][[\"zip1\",\"zip_ratio\"]],on=\"zip1\",how=\"left\").set_index('index')\n",
        "    DataX_cleaned.loc[DataX_cleaned.zip_ratio.isnull(),\"zip_ratio\"] = 0\n",
        "    \n",
        "    DataX_cleaned[\"susp_zip1\"] = DataX_cleaned.apply(lambda x : susp_zip1(x), axis=1)\n",
        "    DataX_cleaned[\"susp_zip2\"] = DataX_cleaned.apply(lambda x : susp_zip2(x), axis=1)\n",
        "    \n",
        "    \n",
        "    ## Seleksi Fitur \n",
        "    DataY_final = DataX_cleaned.y_int\n",
        "    DataY_final = pd.DataFrame(DataX_cleaned.y_int).rename(columns={\"y_int\":0})\n",
        "\n",
        "    DataX_final = DataX_cleaned.drop([\"y_str\",\"y_int\"],1)\n",
        "    DataX_final = pd.get_dummies(DataX_final,columns=[\"field1\",\"domain2\"])\n",
        "        \n",
        "    \n",
        "    return DataX_final,DataY_final"
      ],
      "execution_count": null,
      "outputs": []
    },
    {
      "cell_type": "code",
      "metadata": {
        "id": "HR7aX14Ap82B"
      },
      "source": [
        "train_x2 = pd.read_csv(train_inputs[0], sep = \",\")\n",
        "train_y2 = pd.read_csv(train_targets[0], sep = \",\" , header=None)\n",
        "test_x2 = pd.read_csv(test_inputs[0], sep = \",\")\n",
        "test_y2 = pd.read_csv(test_targets[0], sep = \",\" , header=None)\n",
        "\n",
        "# for i in range(1,10):\n",
        "#   train_x2 = train_x2.append(pd.read_csv(train_inputs[i], sep = \",\"), ignore_index = True)\n",
        "#   train_y2 = train_y2.append(pd.read_csv(train_targets[i], sep = \",\" , header=None), ignore_index = True)\n",
        "#   test_x2 = test_x2.append(pd.read_csv(test_inputs[i], sep = \",\"), ignore_index = True)\n",
        "#   test_y2 = test_y2.append(pd.read_csv(test_targets[i], sep = \",\" , header=None), ignore_index = True)\n",
        "  "
      ],
      "execution_count": null,
      "outputs": []
    },
    {
      "cell_type": "code",
      "metadata": {
        "id": "mKuAziLwpskb"
      },
      "source": [
        "DataTrainX,DataTrainY,df_group_train = clean_data_train(train_x2,train_y2)\n",
        "DataTestX,DataTestY = clean_data_test(test_x2,test_y2,df_group_train)"
      ],
      "execution_count": null,
      "outputs": []
    },
    {
      "cell_type": "code",
      "metadata": {
        "id": "YG4A8FhcqFGP"
      },
      "source": [
        "DataTrainX.head(1)"
      ],
      "execution_count": null,
      "outputs": []
    },
    {
      "cell_type": "code",
      "metadata": {
        "id": "a2-3YsujqFJs"
      },
      "source": [
        "from sklearn.ensemble import RandomForestClassifier\n",
        "from sklearn.metrics import confusion_matrix, classification_report\n",
        "\n",
        "\n",
        "\n",
        "list_col = DataTrainX.columns.drop([\\\n",
        "            \"state1\",\"domain1\",\"zip1\",\\\n",
        "            \"domain2_common\",\"domain2_top\",\"domain2_rare\"])\n",
        "\n",
        "\n",
        "clf = RandomForestClassifier(n_estimators=100)\n",
        "clf.fit(DataTrainX[list_col], DataTrainY)\n",
        "y_predtrain1 = clf.predict(DataTrainX[list_col])\n",
        "y_predtest1 = clf.predict(DataTestX[list_col])\n",
        "y_predtrain = pd.DataFrame(y_predtrain1)\n",
        "y_predtest = pd.DataFrame(y_predtest1)\n",
        "\n",
        "print(classification_report(y_predtrain1, DataTrainY))\n",
        "print(confusion_matrix(y_predtrain1, DataTrainY))\n",
        "print(classification_report(y_predtest1, DataTestY))\n",
        "print(confusion_matrix(y_predtest1, DataTestY))"
      ],
      "execution_count": null,
      "outputs": []
    },
    {
      "cell_type": "markdown",
      "metadata": {
        "id": "cESpwNHmvx2h"
      },
      "source": [
        "#### Cek Data yang Miss Prediction"
      ]
    },
    {
      "cell_type": "code",
      "metadata": {
        "id": "BSu_1erSqFYZ"
      },
      "source": [
        "DataX = DataTrainX.reset_index(drop=True)\n",
        "DataX[\"y_1\"] = y_predtrain\n",
        "DataX[\"y_2\"] = DataTrainY.reset_index(drop=True)\n",
        "Data_miss = DataX[(DataX.y_1==0)&(DataX.y_2==1)]\n",
        "Data_miss.head()"
      ],
      "execution_count": null,
      "outputs": []
    },
    {
      "cell_type": "code",
      "metadata": {
        "id": "_ws11FwnskFz"
      },
      "source": [
        "HH = DataTrainX.drop_duplicates().reset_index(drop=True)\n",
        "H1 = DataTrainX\n",
        "H1[\"y_int\"] = DataTrainY\n",
        "H1[\"y_str\"] = DataTrainY.astype(str)\n",
        "H2 = H1.drop_duplicates().reset_index(drop=True)\n",
        "\n",
        "HH[\"y_int\"] = 0\n",
        "HH[\"y_str\"] = \"0\"\n",
        "HH = HH[(HH.index.isin(H2[H2[\"y_int\"]==1].index))]\n",
        "HH.loc[(HH.index.isin(Data_miss.index)),\"y_int\"] = 1\n",
        "HH.loc[(HH.index.isin(Data_miss.index)),\"y_str\"] = 1"
      ],
      "execution_count": null,
      "outputs": []
    },
    {
      "cell_type": "code",
      "metadata": {
        "id": "D4mOAbQTtQNU"
      },
      "source": [
        "## Tendensi data per kolom\n",
        "list_numerikal = [\"amount\",\"hour1\",\"hour2\",\"total\",\"field3\",\"field4\",\"field5\",\"zip_ratio\"]\n",
        "\n",
        "for name in [\"hour1\"]:\n",
        "    print(\"BEFORE\")\n",
        "    sns.violinplot(y=DataRawX_cleaned[name] , x=DataRawX_cleaned[\"y_str\"], data=DataRawX_cleaned)\n",
        "    plt.show()\n",
        "    print(\"AFTER\")\n",
        "    sns.violinplot(y=HH[name] , x=HH[\"y_str\"], data=HH)\n",
        "    plt.show()"
      ],
      "execution_count": null,
      "outputs": []
    },
    {
      "cell_type": "markdown",
      "metadata": {
        "id": "rWp4krALuJ5l"
      },
      "source": [
        "Dapat dilihat bahwa sebagian besar Fraud yang terdeteksi adalah Data Fraud di pagi hari.<br>\n",
        "Data Fraud dari jam 5 hingga jam 15 tidak terdeteksi.\n",
        "karena pada bagian tersebut pola tiap kolomnya sangat mirip <br> <br>\n",
        "Untuk bisa memisahkan fraud di bagian tersebut,  <br>\n",
        "perlu adanya pendekatan baru melalui penambahan data atau juga implementasi teknik transformasi data lainnya. <br> <br>\n",
        "**Sehingga Hasil Deteksi Fraud bisa dianggap sudah maksimal.**"
      ]
    },
    {
      "cell_type": "markdown",
      "metadata": {
        "id": "I-wQY3LTwIbP"
      },
      "source": [
        "<hr>\n",
        "<hr>\n",
        "<hr>\n",
        "<hr>"
      ]
    },
    {
      "cell_type": "code",
      "metadata": {
        "id": "3PvztZ1eqzKu"
      },
      "source": [
        ""
      ],
      "execution_count": null,
      "outputs": []
    },
    {
      "cell_type": "markdown",
      "metadata": {
        "id": "KwMIxzkkDgeU"
      },
      "source": [
        "# Random Forest\n"
      ]
    },
    {
      "cell_type": "code",
      "metadata": {
        "id": "iwBGAZHTKSYv"
      },
      "source": [
        "DataX_raw = train_inputs_df[0] # train inputs of CV1\n",
        "DataX_raw = train_targets_df[0] # train targets of CV1"
      ],
      "execution_count": null,
      "outputs": []
    },
    {
      "cell_type": "code",
      "metadata": {
        "id": "i9udx6hFLVdS"
      },
      "source": [
        "#DataX_final.head()\n",
        "#DataY_final.head()"
      ],
      "execution_count": null,
      "outputs": []
    },
    {
      "cell_type": "code",
      "metadata": {
        "id": "62EoRF3lLVjJ"
      },
      "source": [
        "df_group.head()"
      ],
      "execution_count": null,
      "outputs": []
    },
    {
      "cell_type": "markdown",
      "metadata": {
        "id": "rz5F-BT9IGEf"
      },
      "source": [
        ""
      ]
    },
    {
      "cell_type": "code",
      "metadata": {
        "id": "EP8KsJ1kUaUw"
      },
      "source": [
        "from sklearn.ensemble import RandomForestClassifier\n",
        "from sklearn.metrics import confusion_matrix, classification_report\n",
        "\n",
        "clf = RandomForestClassifier()\n",
        "clf.fit(DataX_final, DataY_final)"
      ],
      "execution_count": null,
      "outputs": []
    },
    {
      "cell_type": "code",
      "metadata": {
        "id": "lO4uOhYmXKPq"
      },
      "source": [
        "print(classification_report(clf.predict(DataX_final), DataY_final))"
      ],
      "execution_count": null,
      "outputs": []
    },
    {
      "cell_type": "code",
      "metadata": {
        "id": "DAwq7LK9YL0k"
      },
      "source": [
        "print(confusion_matrix(clf.predict(DataX_final), DataY_final))"
      ],
      "execution_count": null,
      "outputs": []
    },
    {
      "cell_type": "code",
      "metadata": {
        "id": "U5yMTmMpbCIG"
      },
      "source": [
        ""
      ],
      "execution_count": null,
      "outputs": []
    },
    {
      "cell_type": "markdown",
      "metadata": {
        "id": "829waa2mEWX7"
      },
      "source": [
        "#SVM"
      ]
    },
    {
      "cell_type": "code",
      "metadata": {
        "id": "2UyuiNwREZA5"
      },
      "source": [
        "from sklearn import svm\n",
        "model = svm.SVC(kernel=\"linear\")\n",
        "model.fit(DataX_final, DataY_final)"
      ],
      "execution_count": null,
      "outputs": []
    },
    {
      "cell_type": "code",
      "metadata": {
        "id": "FglsCM1iJfma"
      },
      "source": [
        "#y_pred = svclassifier.predict(X_test)"
      ],
      "execution_count": null,
      "outputs": []
    },
    {
      "cell_type": "code",
      "metadata": {
        "id": "PV9LY9IUEqCg"
      },
      "source": [
        "from sklearn.metrics import classification_report, confusion_matrix\n",
        "print(confusion_matrix(model.predict(DataX_final), DataY_final))\n"
      ],
      "execution_count": null,
      "outputs": []
    },
    {
      "cell_type": "code",
      "metadata": {
        "id": "wGJKM5wFbCMl"
      },
      "source": [
        "print(classification_report(model.predict(DataX_final), DataY_final))"
      ],
      "execution_count": null,
      "outputs": []
    },
    {
      "cell_type": "markdown",
      "metadata": {
        "id": "z_rsLbgDDdiD"
      },
      "source": [
        "## TEST\n"
      ]
    },
    {
      "cell_type": "code",
      "metadata": {
        "id": "ev8Jkq1cDdh-"
      },
      "source": [
        "import os\n",
        "import pandas as pd\n",
        "from sklearn import preprocessing\n",
        "import numpy as np\n",
        "import seaborn as sns\n",
        "import matplotlib.pyplot as plt\n",
        "\n",
        "\n",
        "def jam_dicurigai(x):\n",
        "    if(x.field5==9 and x.field3>-10000 and x.field3 <6000):\n",
        "        return 1\n",
        "    else:\n",
        "        return 0\n",
        "      \n",
        "def segment(x):\n",
        "    if(x.amount==1):\n",
        "        return \"first_timer\"\n",
        "    elif(x.amount>1 and x.amount<=10):\n",
        "        return \"rare\"\n",
        "    elif(x.amount>10 and x.amount<=1000):\n",
        "        return \"common\"\n",
        "    else:\n",
        "        return x.domain1\n",
        "      \n",
        "def clean_data_train(DataRawX,DataRawY):\n",
        "    DataRawX[\"y_str\"] = DataRawY[0].astype(str)\n",
        "    DataRawX[\"y_int\"] = DataRawY[0]\n",
        "    \n",
        "    ## Data Cleaning\n",
        "    DataRawX.field1             = DataRawX.field1.astype(str)\n",
        "    DataRawX.drop_duplicates(inplace=True)\n",
        "    \n",
        "    DataRawX_cleaned            = DataRawX\n",
        "    DataRawX[\"indicator_flag5\"] = DataRawX.flag5.apply(lambda x : 1 if x>1 else 0)\n",
        "    DataRawX_cleaned.flag5      = DataRawX_cleaned.flag5.apply(lambda x : 1 if bool(x) else 0)\n",
        "\n",
        "    DataRawX_cleaned[\"domain1\"] = DataRawX_cleaned[\"domain1\"].fillna(\"missing\")\n",
        "    \n",
        "    ## Ekstraksi Fitur\n",
        "    DataRawX_cleaned[\"indikator_jam_dicurigai\"] = DataRawX_cleaned.apply(lambda x : jam_dicurigai(x), axis=1)\n",
        "    \n",
        "    df_group = {}\n",
        "    df_group[\"domain\"][\"domain2\"] = DataRawX_cleaned[['domain1','amount']].groupby('domain1').count().reset_index().sort_values('amount').reset_index(drop=True)\n",
        "    df_group[\"domain\"][\"domain2\"] = df_group[\"domain2\"].apply(lambda x : segment(x), axis=1)\n",
        "    \n",
        "    df_group[\"zip\"][\"zip2\"] = DataRawX_cleaned[['domain1','amount']].groupby('domain1').count().reset_index().sort_values('amount').reset_index(drop=True)\n",
        "    df_group[\"zip\"][\"zip2\"] = df_group[\"zip2\"].apply(lambda x : segment(x), axis=1)\n",
        "    \n",
        "    df_group[\"state\"][\"state2\"] = DataRawX_cleaned[['domain1','amount']].groupby('domain1').count().reset_index().sort_values('amount').reset_index(drop=True)\n",
        "    df_group[\"state\"][\"state2\"] = df_group[\"state2\"].apply(lambda x : segment(x), axis=1)\n",
        "    \n",
        "    \n",
        "    DataX_cleaned = DataRawX_cleaned.merge(df_group[[\"domain1\",\"domain2\"]],on=\"domain1\",how=\"left\")\n",
        "    \n",
        "    ## Seleksi Fitur \n",
        "    DataX_extracted = DataX_cleaned.drop([\"state1\",\"zip1\"],1)\n",
        "    #DataX_extracted = DataX_cleaned.drop([\"zip1\"],1)\n",
        "    DataY_final = DataX_extracted.y_int\n",
        "    DataY_final = pd.DataFrame(DataX_extracted.y_int).rename(columns={\"y_int\":0})\n",
        "\n",
        "    DataX_final = DataX_extracted.drop([\"domain1\",\"y_str\",\"y_int\"],1)\n",
        "    DataX_final = pd.get_dummies(DataX_final,columns=[\"field1\",\"domain2\"])\n",
        "    #DataX_final = pd.get_dummies(DataX_final,columns=[\"state1\",\"field1\",\"domain2\"])\n",
        "        \n",
        "    \n",
        "    \n",
        "    return DataX_final,DataY_final,df_group\n",
        "  \n",
        "  \n",
        "      \n",
        "def clean_data_test(DataRawX,DataRawY,df_group_from_train):\n",
        "    DataRawX[\"y_str\"] = DataRawY[0].astype(str)\n",
        "    DataRawX[\"y_int\"] = DataRawY[0]\n",
        "    \n",
        "    ## Data Cleaning\n",
        "    DataRawX.field1             = DataRawX.field1.astype(str)\n",
        "    DataRawX.drop_duplicates(inplace=True)\n",
        "    \n",
        "    DataRawX_cleaned            = DataRawX\n",
        "    DataRawX[\"indicator_flag5\"] = DataRawX.flag5.apply(lambda x : 1 if x>1 else 0)\n",
        "    DataRawX_cleaned.flag5      = DataRawX_cleaned.flag5.apply(lambda x : 1 if bool(x) else 0)\n",
        "\n",
        "    DataRawX_cleaned[\"domain1\"] = DataRawX_cleaned[\"domain1\"].fillna(\"missing\")\n",
        "    \n",
        "    ## Ekstraksi Fitur\n",
        "    DataRawX_cleaned[\"indikator_jam_dicurigai\"] = DataRawX_cleaned.apply(lambda x : jam_dicurigai(x), axis=1)\n",
        "    \n",
        "    DataX_cleaned = DataRawX_cleaned.merge(df_group_from_train[[\"domain1\",\"domain2\"]],on=\"domain1\",how=\"left\")\n",
        "    display(DataX_cleaned.head())\n",
        "    DataX_cleaned[DataX_cleaned.domain2.isnull()][\"domain2\"] = \"first_timer\"\n",
        "    \n",
        "    ## Seleksi Fitur \n",
        "    DataX_extracted = DataX_cleaned.drop([\"state1\",\"zip1\"],1)\n",
        "    #DataX_extracted = DataX_cleaned.drop([\"zip1\"],1)\n",
        "    DataY_final = DataX_extracted.y_int\n",
        "    DataY_final = pd.DataFrame(DataX_extracted.y_int).rename(columns={\"y_int\":0})\n",
        "\n",
        "    DataX_final = DataX_extracted.drop([\"domain1\",\"y_str\",\"y_int\"],1)\n",
        "    DataX_final = pd.get_dummies(DataX_final,columns=[\"field1\",\"domain2\"])\n",
        "    #DataX_final = pd.get_dummies(DataX_final,columns=[\"state1\",\"field1\",\"domain2\"])\n",
        "        \n",
        "    \n",
        "    \n",
        "    return DataX_final,DataY_final"
      ],
      "execution_count": null,
      "outputs": []
    },
    {
      "cell_type": "code",
      "metadata": {
        "id": "oJV1KKPmDdh8"
      },
      "source": [
        "DataTrainX,DataTrainY,df_group_train = clean_data_train(train_inputs_df[0],train_targets_df[1])\n",
        "df_group_train"
      ],
      "execution_count": null,
      "outputs": []
    },
    {
      "cell_type": "code",
      "metadata": {
        "id": "Dh4dSZOoDdh6"
      },
      "source": [
        "DataTestX,DataTestY = clean_data_test(test_inputs_df[0],test_targets_df[0],df_group_train)"
      ],
      "execution_count": null,
      "outputs": []
    },
    {
      "cell_type": "code",
      "metadata": {
        "id": "RmgOA7KKDdh5"
      },
      "source": [
        "from sklearn.ensemble import RandomForestClassifier\n",
        "from sklearn.metrics import confusion_matrix, classification_report\n",
        "\n",
        "clf = RandomForestClassifier()\n",
        "clf.fit(DataTrainX, DataTrainY)"
      ],
      "execution_count": null,
      "outputs": []
    },
    {
      "cell_type": "code",
      "metadata": {
        "id": "j_HjV6X1Ddh1"
      },
      "source": [
        "DataTestX.head()"
      ],
      "execution_count": null,
      "outputs": []
    },
    {
      "cell_type": "code",
      "metadata": {
        "id": "dPbvhi2_Ddhz"
      },
      "source": [
        "print(classification_report(clf.predict(DataTestX), DataTestY))"
      ],
      "execution_count": null,
      "outputs": []
    },
    {
      "cell_type": "markdown",
      "metadata": {
        "id": "U0-wUF76Ddhy"
      },
      "source": [
        ""
      ]
    },
    {
      "cell_type": "code",
      "metadata": {
        "id": "56wRvJdXDdhw"
      },
      "source": [
        "print(confusion_matrix(clf.predict(DataTestX), DataTestY))"
      ],
      "execution_count": null,
      "outputs": []
    },
    {
      "cell_type": "code",
      "metadata": {
        "id": "hBHn_y3kDdhr"
      },
      "source": [
        "DataRawX.groupby(\"domain2\").count()"
      ],
      "execution_count": null,
      "outputs": []
    },
    {
      "cell_type": "code",
      "metadata": {
        "id": "VJBtElaJDdho"
      },
      "source": [
        "A = DataX_extracted[DataX_extracted.y_int==1].groupby(\"domain2\").count()[\"amount\"].reset_index()\n",
        "B = DataX_extracted[DataX_extracted.y_int==0].groupby(\"domain2\").count()[\"amount\"].reset_index()\n",
        "C = DataX_extracted.groupby(\"domain2\").count()[\"amount\"].reset_index()\n",
        "\n",
        "A = A.merge(B,on=[\"domain2\"]).merge(C,on=[\"domain2\"])\n",
        "A[\"persen\"] = A.apply(lambda x: x.amount_x/x.amount,1)\n",
        "A"
      ],
      "execution_count": null,
      "outputs": []
    },
    {
      "cell_type": "code",
      "metadata": {
        "id": "Ez-8ENXaDdhe"
      },
      "source": [
        ""
      ],
      "execution_count": null,
      "outputs": []
    }
  ]
}